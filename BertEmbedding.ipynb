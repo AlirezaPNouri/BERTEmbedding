{
  "nbformat": 4,
  "nbformat_minor": 0,
  "metadata": {
    "colab": {
      "name": "BertEmbedding.ipynb",
      "provenance": [],
      "collapsed_sections": [],
      "machine_shape": "hm",
      "authorship_tag": "ABX9TyMte5aj7wqYbWKS0/8/eVNq",
      "include_colab_link": true
    },
    "kernelspec": {
      "name": "python3",
      "display_name": "Python 3"
    },
    "language_info": {
      "name": "python"
    },
    "accelerator": "GPU"
  },
  "cells": [
    {
      "cell_type": "markdown",
      "metadata": {
        "id": "view-in-github",
        "colab_type": "text"
      },
      "source": [
        "<a href=\"https://colab.research.google.com/github/AlirezaPNouri/BERTEmbedding/blob/main/BertEmbedding.ipynb\" target=\"_parent\"><img src=\"https://colab.research.google.com/assets/colab-badge.svg\" alt=\"Open In Colab\"/></a>"
      ]
    },
    {
      "cell_type": "markdown",
      "source": [
        "This is an optimized version of BERT which uses the BERT embedding instead of Bert classification."
      ],
      "metadata": {
        "id": "IVQM9z9jfBus"
      }
    },
    {
      "cell_type": "code",
      "source": [
        "!pip install transformers"
      ],
      "metadata": {
        "id": "MR2VBANWfTPe",
        "colab": {
          "base_uri": "https://localhost:8080/"
        },
        "outputId": "0f28bc68-6d2a-4a3e-da86-b03b3c3f2363"
      },
      "execution_count": 5,
      "outputs": [
        {
          "output_type": "stream",
          "name": "stdout",
          "text": [
            "Requirement already satisfied: transformers in /usr/local/lib/python3.7/dist-packages (4.17.0)\n",
            "Requirement already satisfied: regex!=2019.12.17 in /usr/local/lib/python3.7/dist-packages (from transformers) (2019.12.20)\n",
            "Requirement already satisfied: importlib-metadata in /usr/local/lib/python3.7/dist-packages (from transformers) (4.11.2)\n",
            "Requirement already satisfied: sacremoses in /usr/local/lib/python3.7/dist-packages (from transformers) (0.0.47)\n",
            "Requirement already satisfied: tqdm>=4.27 in /usr/local/lib/python3.7/dist-packages (from transformers) (4.63.0)\n",
            "Requirement already satisfied: packaging>=20.0 in /usr/local/lib/python3.7/dist-packages (from transformers) (21.3)\n",
            "Requirement already satisfied: huggingface-hub<1.0,>=0.1.0 in /usr/local/lib/python3.7/dist-packages (from transformers) (0.4.0)\n",
            "Requirement already satisfied: filelock in /usr/local/lib/python3.7/dist-packages (from transformers) (3.6.0)\n",
            "Requirement already satisfied: requests in /usr/local/lib/python3.7/dist-packages (from transformers) (2.23.0)\n",
            "Requirement already satisfied: pyyaml>=5.1 in /usr/local/lib/python3.7/dist-packages (from transformers) (6.0)\n",
            "Requirement already satisfied: tokenizers!=0.11.3,>=0.11.1 in /usr/local/lib/python3.7/dist-packages (from transformers) (0.11.6)\n",
            "Requirement already satisfied: numpy>=1.17 in /usr/local/lib/python3.7/dist-packages (from transformers) (1.21.5)\n",
            "Requirement already satisfied: typing-extensions>=3.7.4.3 in /usr/local/lib/python3.7/dist-packages (from huggingface-hub<1.0,>=0.1.0->transformers) (3.10.0.2)\n",
            "Requirement already satisfied: pyparsing!=3.0.5,>=2.0.2 in /usr/local/lib/python3.7/dist-packages (from packaging>=20.0->transformers) (3.0.7)\n",
            "Requirement already satisfied: zipp>=0.5 in /usr/local/lib/python3.7/dist-packages (from importlib-metadata->transformers) (3.7.0)\n",
            "Requirement already satisfied: chardet<4,>=3.0.2 in /usr/local/lib/python3.7/dist-packages (from requests->transformers) (3.0.4)\n",
            "Requirement already satisfied: certifi>=2017.4.17 in /usr/local/lib/python3.7/dist-packages (from requests->transformers) (2021.10.8)\n",
            "Requirement already satisfied: idna<3,>=2.5 in /usr/local/lib/python3.7/dist-packages (from requests->transformers) (2.10)\n",
            "Requirement already satisfied: urllib3!=1.25.0,!=1.25.1,<1.26,>=1.21.1 in /usr/local/lib/python3.7/dist-packages (from requests->transformers) (1.24.3)\n",
            "Requirement already satisfied: click in /usr/local/lib/python3.7/dist-packages (from sacremoses->transformers) (7.1.2)\n",
            "Requirement already satisfied: joblib in /usr/local/lib/python3.7/dist-packages (from sacremoses->transformers) (1.1.0)\n",
            "Requirement already satisfied: six in /usr/local/lib/python3.7/dist-packages (from sacremoses->transformers) (1.15.0)\n"
          ]
        }
      ]
    },
    {
      "cell_type": "code",
      "source": [
        "import requests\n",
        "import numpy as np\n",
        "import pandas as pd\n",
        "import string"
      ],
      "metadata": {
        "id": "KWvO9dJigbOf"
      },
      "execution_count": 6,
      "outputs": []
    },
    {
      "cell_type": "code",
      "source": [
        "MAX_DATA = 100\n",
        "MAX_SENTENCE_LENGTH = 500\n",
        "MIN_SENTENCE_LENGTH = 200\n",
        "doc_list =[item for item in range(MAX_DATA)]\n",
        "jump = 3 # jump size for gradient decent\n",
        "MAX_FEATURE_SIZE = 20 # max size of the gradient descent vector\n",
        "range_n_clusters = [2, 3, 4, 5, 6] #number of different clustering to compare the performance of the model over different clustering"
      ],
      "metadata": {
        "id": "5Y3I05aXos02"
      },
      "execution_count": 55,
      "outputs": []
    },
    {
      "cell_type": "code",
      "source": [
        "# download the dataset as a zip file from the git repo\n",
        "print('Downloading dataset...')\n",
        "\n",
        "# The URL for the dataset zip file.\n",
        "url = 'https://raw.githubusercontent.com/AlirezaPNouri/BERTEmbedding/main/5KArticles.csv'\n",
        "res = requests.get(url, allow_redirects=True)\n",
        "with open('small_dataset_NYT.csv','wb') as file:\n",
        "    file.write(res.content)\n",
        "print('Download is done!')"
      ],
      "metadata": {
        "id": "rYN-I2gDfol5",
        "colab": {
          "base_uri": "https://localhost:8080/"
        },
        "outputId": "9d1957c8-c7f2-454a-825f-db59494a2502"
      },
      "execution_count": 8,
      "outputs": [
        {
          "output_type": "stream",
          "name": "stdout",
          "text": [
            "Downloading dataset...\n",
            "Download is done!\n"
          ]
        }
      ]
    },
    {
      "cell_type": "code",
      "source": [
        "# Load the dataset into a pandas dataframe.\n",
        "df = pd.read_csv(\"/content/small_dataset_NYT.csv\", header= None, skiprows=1)\n",
        "print('The original size of dataset is {}'.format(df.shape))\n",
        "df = df.dropna(how='any', axis=0)\n",
        "\n",
        "# Report the number of sentences.\n",
        "print('Number of training sentences extracted from dataset is {:,}\\n'.format(df.shape[0]))\n",
        "# Display 10 random rows from the data.\n",
        "# print(df.sample(10))\n",
        "df = df[:][[1,2]]\n",
        "df.columns = ['id', 'content']\n",
        "df['text_length'] = df['content'].apply(lambda x : len(x.split(' ')))\n",
        "df = df[df['text_length']>= MIN_SENTENCE_LENGTH]\n",
        "df['content'] = df['content'].apply(lambda x : ' '.join(x.split(' ')[:MAX_SENTENCE_LENGTH]))\n",
        "df = df[0:MAX_DATA][['content']]\n",
        "print('dataset shape is {}'.format(df.shape))\n",
        "print('Columns are : {}'.format([name for name in df.columns]))\n",
        "print('The dimension of the dataset is {}'.format(df.shape))"
      ],
      "metadata": {
        "id": "1oWEaHJpofF3",
        "colab": {
          "base_uri": "https://localhost:8080/"
        },
        "outputId": "ffae5626-0ba5-42fc-e573-687d9511eafa"
      },
      "execution_count": 9,
      "outputs": [
        {
          "output_type": "stream",
          "name": "stdout",
          "text": [
            "The original size of dataset is (5001, 3)\n",
            "Number of training sentences extracted from dataset is 5,001\n",
            "\n",
            "dataset shape is (100, 1)\n",
            "Columns are : ['content']\n",
            "The dimension of the dataset is (100, 1)\n"
          ]
        }
      ]
    },
    {
      "cell_type": "code",
      "source": [
        "#run Bert over documents to generate embedding for each documeny and tokens\n",
        "import tensorflow as tf\n",
        "from transformers import BertTokenizer, TFBertModel\n",
        "\n",
        "tokenizer = BertTokenizer.from_pretrained('bert-base-uncased')\n",
        "model = TFBertModel.from_pretrained('bert-base-uncased')\n",
        "# input_ids = tf.constant(tokenizer.encode(\"Hello, my dog is cute\"))[None, :]  # Batch size 1\n",
        "# outputs = model(input_ids)\n",
        "# last_hidden_states = outputs[0]  # The last hidden-state is the first element of the output tuple\n",
        "\n",
        "# print(tokenizer.tokenize(\"Hello, my dog is cute\"))\n",
        "# print(last_hidden_states.shape) # the first and the last ones are the cls and sep\n",
        "Embedding_dict = {}\n",
        "for id, doc in zip(range(MAX_DATA),df['content']):\n",
        "  Embedding_dict[id] = model(tf.constant(tokenizer.encode(doc))[None, :])[0]\n",
        "  print('Document {} is done!'.format(id))\n",
        "# print(Embedding_dict)"
      ],
      "metadata": {
        "id": "05RgrBqIfTYs"
      },
      "execution_count": null,
      "outputs": []
    },
    {
      "cell_type": "code",
      "source": [
        "# create a dictionary out of the embedding for each document and all tokens in the document\n",
        "# the structure of doc_word_embedding:  {doc0: {'cls': embedding_vec, 'ali': embedding_vec... 'sep': embedding_vec}, doc1: {}} --> {doc#: {word: embedding_vec}}\n",
        "\n",
        "doc_word_embedding = {}\n",
        "for doc in range(MAX_DATA):\n",
        "  tmp_list = dict()\n",
        "  temp_list = ()\n",
        "  temp_list = np.array(Embedding_dict[doc][0])\n",
        "  tmp_list['cls']= temp_list[0]\n",
        "  for word, embedding in zip(tokenizer.tokenize(df['content'].iloc[doc]), temp_list[1:-1]):\n",
        "    #filter some unuseful tokens\n",
        "    if len(word)>2 and word not in string.punctuation:\n",
        "      tmp_list[word]=embedding\n",
        "  tmp_list['sep']= temp_list[-1]\n",
        "  doc_word_embedding[doc] = tmp_list\n",
        "  print('doc {} is done!'.format(doc))\n"
      ],
      "metadata": {
        "id": "0DXORpw7qjr0"
      },
      "execution_count": null,
      "outputs": []
    },
    {
      "cell_type": "code",
      "source": [
        "#Function to find similarities\n",
        "from sklearn.metrics.pairwise import cosine_similarity\n",
        "def find_similar(embedding_dict):\n",
        "  score_dic = dict()\n",
        "  word_list = list(embedding_dict.keys())[1:-1] #ignore 'cls' and 'sep' tokens\n",
        "  for word in word_list:\n",
        "    temp_list = list()\n",
        "    for neighbor in word_list:\n",
        "      temp_list.append(cosine_similarity([ embedding_dict[word]], [embedding_dict[neighbor] ])[0][0])\n",
        "    score_dic[word] = sorted(temp_list, reverse=True)[1:]# ignore the cosine similarity between each word and itself\n",
        "  return score_dic"
      ],
      "metadata": {
        "id": "dV9LR0_QnCjD"
      },
      "execution_count": 18,
      "outputs": []
    },
    {
      "cell_type": "code",
      "source": [
        "# create the neighbor similarity vector for each word in each document\n",
        "# the structure of it is {doc0: {token1: similarity distribution, token2: similarity distribution}, doc1: ...}. be careful the size of each neighbor vector is one less than the number of tokens in each document\n",
        "word_neighbor_similarity = dict()\n",
        "for doc in doc_word_embedding.keys():\n",
        "  word_neighbor_similarity[doc] = find_similar(doc_word_embedding[doc])\n",
        "  print('doc {} is done'.format(doc))\n"
      ],
      "metadata": {
        "id": "_QZu2aDHuNd7"
      },
      "execution_count": null,
      "outputs": []
    },
    {
      "cell_type": "code",
      "source": [
        "print(word_neighbor_similarity[3]['despite'])"
      ],
      "metadata": {
        "colab": {
          "base_uri": "https://localhost:8080/"
        },
        "id": "7dQjOER1KjLf",
        "outputId": "6499710b-4f3c-40d0-e5ac-495e8a4e4224"
      },
      "execution_count": 45,
      "outputs": [
        {
          "output_type": "stream",
          "name": "stdout",
          "text": [
            "[0.64051676, 0.58452755, 0.56511635, 0.5548535, 0.54290926, 0.5135425, 0.51309526, 0.5109051, 0.5035542, 0.49692708, 0.49628136, 0.47123325, 0.4648232, 0.4627166, 0.45677203, 0.45496714, 0.4527735, 0.45257795, 0.44931555, 0.4294933, 0.42622155, 0.42570502, 0.42535168, 0.4253087, 0.42384106, 0.4233408, 0.42186263, 0.4157315, 0.414689, 0.41300115, 0.41061467, 0.40746665, 0.39894292, 0.39807484, 0.39604592, 0.39546376, 0.3857022, 0.38423222, 0.38123444, 0.38118744, 0.38025457, 0.3736773, 0.37283686, 0.37184757, 0.3718049, 0.37087893, 0.37052423, 0.36995998, 0.3692636, 0.36876047, 0.366902, 0.3646148, 0.36326277, 0.36170065, 0.36019766, 0.3591764, 0.35829365, 0.35526678, 0.3551512, 0.35510546, 0.35455137, 0.35448137, 0.35408294, 0.35392505, 0.35386336, 0.35359597, 0.35270667, 0.35210943, 0.34991646, 0.34986964, 0.34955424, 0.34895927, 0.34672856, 0.34666568, 0.34580514, 0.34531197, 0.34316522, 0.3418697, 0.34046656, 0.34012195, 0.34009957, 0.33893055, 0.3388222, 0.3372243, 0.33662128, 0.33661208, 0.33532673, 0.3341346, 0.3326105, 0.33218023, 0.33185977, 0.33134556, 0.3308704, 0.32955176, 0.32877952, 0.3283745, 0.32724455, 0.32627732, 0.32566297, 0.3256414, 0.32546473, 0.32525903, 0.32496113, 0.32442772, 0.32378456, 0.32368863, 0.32214642, 0.32204193, 0.32124665, 0.32066005, 0.31997883, 0.3195883, 0.31929314, 0.3186815, 0.3177356, 0.31749502, 0.3164395, 0.31553024, 0.3155156, 0.31431282, 0.3141335, 0.31371653, 0.31366906, 0.31233305, 0.31153193, 0.31133583, 0.3112473, 0.31061813, 0.31056768, 0.3101204, 0.30984604, 0.30897993, 0.3082449, 0.3076785, 0.3076318, 0.30714053, 0.30674717, 0.30573934, 0.30443817, 0.30436963, 0.3029951, 0.30298012, 0.30238855, 0.3020709, 0.30100653, 0.30043998, 0.2988821, 0.29789048, 0.29765224, 0.29751033, 0.29641372, 0.29621053, 0.29602495, 0.2954026, 0.2950777, 0.29485628, 0.29478642, 0.2946802, 0.29419488, 0.29352254, 0.2927192, 0.29256508, 0.29125565, 0.2902603, 0.28888485, 0.2888315, 0.28859067, 0.28590328, 0.28511897, 0.2838009, 0.28119048, 0.28104952, 0.28036645, 0.27605876, 0.27452666, 0.2741867, 0.27363208, 0.2736017, 0.27336472, 0.27274638, 0.27270308, 0.2721695, 0.2710775, 0.26863506, 0.2667218, 0.26510715, 0.26510602, 0.26471707, 0.26471448, 0.264421, 0.26369077, 0.26336786, 0.26191157, 0.2611352, 0.26068005, 0.2605129, 0.25884676, 0.2574709, 0.25744823, 0.2572137, 0.2548553, 0.25461972, 0.2538905, 0.25272155, 0.25080234, 0.24969698, 0.24886563, 0.2485255, 0.24688682, 0.24613084, 0.24542408, 0.24433014, 0.24409492, 0.2436926, 0.24213107, 0.24171403, 0.24154422, 0.23787552, 0.23713478, 0.23507954, 0.23403728, 0.23359656, 0.2308822, 0.22705758, 0.22661684, 0.22558498, 0.22331628, 0.22268277, 0.22103107, 0.21976756, 0.21950598, 0.21858919, 0.2171911, 0.21696723, 0.21420363, 0.21371682, 0.20919777, 0.20766628, 0.20573115, 0.20107102, 0.19976223, 0.19971108, 0.1993655, 0.1879228, 0.1818428, 0.18101057, 0.17991155, 0.17403893, 0.16560143, 0.1629568, 0.15794004, 0.15145874, 0.14895983, 0.13774866]\n"
          ]
        }
      ]
    },
    {
      "cell_type": "code",
      "source": [
        "from transformers.utils.dummy_tf_objects import TF_LXMERT_PRETRAINED_MODEL_ARCHIVE_LIST\n",
        "##Calculate the gradient descent of the similarity distribution\n",
        "## MAX_FEATURE_SIZE will cut the rest of the features\n",
        "gradient_descent_neighbors = dict()\n",
        "for doc in word_neighbor_similarity.keys():\n",
        "  temp_dict = dict()\n",
        "\n",
        "  for word, embedding in word_neighbor_similarity[doc].items():\n",
        "    vec_size = len(embedding)\n",
        "    vec_size -= vec_size%jump\n",
        "    embedding = embedding[0:vec_size]\n",
        "    new_list = [embedding[x:x+jump] for x in range(0, vec_size, jump)]\n",
        "    tmp_list = list()\n",
        "    for ele in new_list:\n",
        "      m1,b1 = np.polyfit(np.arange(0, jump), ele, 1)\n",
        "      tmp_list.append(m1)\n",
        "    temp_dict[word] = tmp_list\n",
        "  gradient_descent_neighbors[doc] = temp_dict\n",
        "  print('Document {} is done!'.format(doc))\n",
        "\n",
        "  "
      ],
      "metadata": {
        "id": "BHfxVEnWVJPU"
      },
      "execution_count": null,
      "outputs": []
    },
    {
      "cell_type": "code",
      "source": [
        "from numpy import median, array, exp\n",
        "#sigmoid function\n",
        "def sigmoid(vec_):\n",
        "  z = array(vec_)\n",
        "  z = z/np.linalg.norm(z)\n",
        "  g = 1 / (1 + exp(-z))\n",
        "  return g"
      ],
      "metadata": {
        "id": "9B08cYo0ONNj"
      },
      "execution_count": 42,
      "outputs": []
    },
    {
      "cell_type": "code",
      "source": [
        "for doc in gradient_descent_neighbors.keys():\n",
        "  for word, gradient_vec in gradient_descent_neighbors[doc].items():\n",
        "    gradient_descent_neighbors[doc][word] =sigmoid(gradient_descent_neighbors[doc][word][0:MAX_FEATURE_SIZE])# just take top features and apply sigmoid function"
      ],
      "metadata": {
        "id": "QLupbGicNIOB"
      },
      "execution_count": 50,
      "outputs": []
    },
    {
      "cell_type": "code",
      "source": [
        "from sklearn.cluster import KMeans\n",
        "# clustering the tokens in each document. It creates differnt number of clustering\n",
        "all_clusters = dict()\n",
        "all_centroid = dict()\n",
        "for doc, featurs in gradient_descent_neighbors.items():\n",
        "  clusters_per_doc = dict()\n",
        "  centroids_per_doc = dict()\n",
        "  for n_clusters in range_n_clusters:\n",
        "    clusterer = KMeans(n_clusters=n_clusters, random_state=10, max_iter=100,)\n",
        "    clusters_per_doc[n_clusters] = clusterer.fit_predict(list(featurs.values()))\n",
        "    centroids_per_doc[n_clusters] = clusterer.cluster_centers_\n",
        "  all_clusters[doc] = clusters_per_doc\n",
        "  all_centroid[doc] = centroids_per_doc\n",
        "  print('Document {} is done!'.format(doc))\n",
        "     "
      ],
      "metadata": {
        "id": "ZjL-mH5mS0pV"
      },
      "execution_count": 56,
      "outputs": []
    },
    {
      "cell_type": "code",
      "source": [
        "#create a total clusters sorted dictionary\n",
        "## the structure of total_docs_clusters  is {doc0: {number_of_clusters { cluster_number: {token0: closeness_to_centroid, token1: closeness_to_centroid ...} }}}\n",
        "total_docs_clusters = dict()\n",
        "for doc in all_clusters.keys():\n",
        "  temp_cluster = all_clusters[doc]\n",
        "  dic_for_clustering = dict()\n",
        "  for n_cluster in range_n_clusters:\n",
        "    temp_dict = dict()\n",
        "    for la in range(n_cluster):\n",
        "      temp_list = dict()\n",
        "      for label_, value_ in zip(temp_cluster[n_cluster],gradient_descent_neighbors[doc].items()):\n",
        "        if label_ == la:\n",
        "          temp_list[value_[0]] = np.sum(np.square(value_[1] - all_centroid[doc][n_cluster][la]))\n",
        "      temp_dict[la]=temp_list\n",
        "    dic_for_clustering[n_cluster] = temp_dict\n",
        "  total_docs_clusters[doc] = dic_for_clustering\n",
        "  \n",
        "    \n",
        "      "
      ],
      "metadata": {
        "id": "6caQ3xUfWPU6"
      },
      "execution_count": 78,
      "outputs": []
    },
    {
      "cell_type": "code",
      "source": [
        "# import pickle\n",
        "\n",
        "# pickle.dump(df, open(\"df.p\",\"wb\"))\n",
        "# pickle.dump(Embedding_dict, open(\"Embedding_dict.p\", \"wb\"))\n",
        "# pickle.dump(doc_word_embedding, open(\"doc_word_embedding.p\",\"wb\"))\n",
        "# pickle.dump(word_neighbor_similarity, open(\"word_neighbor_similarity.p\",\"wb\"))\n",
        "# pickle.dump(gradient_descent_neighbors, open(\"gradient_descent_neighbors.p\",\"wb\"))\n",
        "# pickle.dump(total_docs_clusters, open(\"total_docs_clusters.p\",\"wb\"))\n",
        "# pickle.dump(all_clusters, open(\"all_clusters.p\",\"wb\"))\n",
        "# pickle.dump(all_centroid, open(\"all_centroid.p\",\"wb\"))\n",
        "\n",
        "# df = pickle.load(open(\"df.p\", \"rb\"))\n",
        "# Embedding_dict = pickle.load(open(\"Embedding_dict.p\", \"rb\"))\n",
        "# doc_word_embedding = pickle.load(open(\"doc_word_embedding.p\", \"rb\"))\n",
        "# word_neighbor_similarity = pickle.load(open(\"word_neighbor_similarity.p\", \"rb\"))\n",
        "# total_docs_clusters = pickle.load(open(\"total_docs_clusters.p\", \"rb\"))\n",
        "# all_clusters = pickle.load(open(\"all_clusters.p\", \"rb\"))\n",
        "# all_centroid = pickle.load(open(\"all_centroid.p\", \"rb\"))"
      ],
      "metadata": {
        "id": "78mf8x81O10P"
      },
      "execution_count": 77,
      "outputs": []
    },
    {
      "cell_type": "code",
      "source": [
        "print(total_docs_clusters[0])"
      ],
      "metadata": {
        "colab": {
          "base_uri": "https://localhost:8080/"
        },
        "id": "_f7GO-rwcxc7",
        "outputId": "203ae4da-f1d6-40a4-8459-924cc7a55fec"
      },
      "execution_count": 76,
      "outputs": [
        {
          "output_type": "stream",
          "name": "stdout",
          "text": [
            "{2: {0: {'hurrying': 0.014334454281205427, 'through': 0.024271209334057547, 'the': 0.016466063089275618, 'veterans': 0.01057808828276694, 'guard': 0.010406854711459945, 'new': 0.014575321405436081, 'yelled': 0.00922522563525655, 'warm': 0.00998651367828293, 'huh': 0.014299272795611271, 'grin': 0.01196944871267222, 'room': 0.01257380783044098, 'wild': 0.005893532163674162, 'philadelphia': 0.02356714565081841, 'eagles': 0.008064060730212059, 'cold': 0.008152779266458863, 'qualified': 0.008441635526562834, 'but': 0.023569344884982423, 'until': 0.010136276509536921, 'time': 0.00875520217791407, 'teams': 0.01526858105802071, 'minnesota': 0.016405918346635427, 'metro': 0.011629377955285014, '##dome': 0.024294921778461667, 'washington': 0.0074125138276196325, 'and': 0.034586827581737624, 'green': 0.016517300514080895, 'being': 0.010200571798814395, 'fired': 0.01799521918403016, 'going': 0.005585028947087353, 'right': 0.02918924862791166, 'john': 0.015623067128077624, 'this': 0.0071626471272233675, 'wasn': 0.009939315852272066, 'nice': 0.009119318919430228, 'football': 0.010727053887346974, 'unless': 0.004904343385617549, 'team': 0.007628671364913973, 'won': 0.01659632796129725, 'did': 0.014638404018317792, '##iously': 0.007448973057026219, 'enjoyed': 0.017288302937444572, 'having': 0.022863774405673387, 'water': 0.00572625494525049, 'deacon': 0.016653039710103807, 'jones': 0.026697944448540456, 'dick': 0.02213122069862233, '##erson': 0.034483823305516956, 'safety': 0.00920655049504195, 'andre': 0.017131839691542958, 'waters': 0.013208694420204755, 'inspired': 0.00869961629061558, 'them': 0.00826582534700311, 'was': 0.014729268903644219, 'last': 0.008615094971492623, 'saying': 0.007342215383665863, 'now': 0.01762711402603989, 'about': 0.023732358326171453, 'want': 0.008286517322804788, 'degrees': 0.019334461245406186, 'game': 0.006347091584296819, '##long': 0.013385504177165925, '##zle': 0.011221145268648047, 'not': 0.010406492916761583, 'lot': 0.019863690440988475, 'who': 0.008669929528258258, 'prove': 0.008978737609131553, 'win': 0.009651643001405849, 'everett': 0.010204845369654198, 'factor': 0.015861395889959107, 'almost': 0.013226696844418856, 'find': 0.010586153989729284, 'marrow': 0.010757052075935376, 'weeks': 0.016685893729103923, 'service': 0.025763944701469983, 'long': 0.01514883856783221, 'range': 0.027848831518880936, 'forecast': 0.03471641139142987, 'front': 0.026187658796109004, 'will': 0.006458572183918167, 'create': 0.010446366194192121, 'must': 0.01054848111686149, 'confront': 0.01998231262245837, 'well': 0.030228909193498535, 'their': 0.008842661325182976, 'anaheim': 0.01092002121803125, 'span': 0.007006009548122452, 'only': 0.017497322356847672, 'loss': 0.0207007261515464}, 1: {'tunnel': 0.0038104067442899566, 'stadium': 0.003849844766415116, 'los': 0.002240607169629631, 'angeles': 0.004640880709931758, 'rams': 0.002034428248511576, 'left': 0.0020909422369952456, 'tom': 0.0035982510193432633, '##berry': 0.0019296542897454868, 'weather': 0.006422185570066786, 'california': 0.002274578324951695, 'sis': 0.0016757405406184964, '##sies': 0.00274473971717226, 'with': 0.013549784134908819, 'disappeared': 0.005925828561414264, 'into': 0.002494714081003743, 'locker': 0.011772914156251852, 'calmly': 0.004089870120462898, 'celebrate': 0.004442185585882158, 'card': 0.007069003263433384, 'victory': 0.00399648283066246, 'over': 0.002704729452741869, 'raw': 0.005272594293630908, 'rain': 0.001298091178377454, 'which': 0.0142783174116283, 'against': 0.003721217586309456, 'giants': 0.0020365134493950656, 'next': 0.007280781406947064, 'sunday': 0.0032304307656822904, 'super': 0.0020149709979871934, 'bowl': 0.002162308180561209, '##iv': 0.01480939552159185, 'tournament': 0.0068269580597436, 'yesterday': 0.004938039455130492, 'had': 0.0015769359721436477, 'always': 0.0021347291267295693, 'played': 0.008097028682835796, 'like': 0.006137764814047231, 'playoff': 0.005216279810445377, 'games': 0.010879857993474414, 'were': 0.004936294884370878, 'since': 0.0024936732134271306, 'franchise': 0.00604511904981394, 'moved': 0.012125920460958048, 'from': 0.01268583916351404, 'cleveland': 0.00551073778997519, 'more': 0.0029847718253333613, 'than': 0.003699255080885969, 'four': 0.007817374050019114, 'decades': 0.0012069536106507485, 'ago': 0.009621857775706346, 'that': 0.02046504422258954, 'ram': 0.002795849031983245, 'lost': 0.005365310997697696, 'three': 0.002754468948111628, 'outdoor': 0.0023360345892406943, 'plus': 0.003157278136498451, 'one': 0.005916898800203481, 'warmth': 0.01706695161596839, 'year': 0.006722031938364341, 'two': 0.005394141330023727, 'each': 0.003613293175055926, 'detroit': 0.003423518668580375, 'bay': 0.008791411028606262, 'chicago': 0.00819772268172497, 'tired': 0.003498851659855083, '##man': 0.0024813954595545857, 'get': 0.005996396749488769, 'news': 0.007187068536054244, 'robinson': 0.0038587887087239087, 'coach': 0.0026470650009495413, 'joked': 0.0014508274251402117, 'very': 0.002592355653836587, 'day': 0.001643081045056794, 'play': 0.0023608042171987856, 'your': 0.0027314911684069667, 'somewhat': 0.00483204928956882, 'ted': 0.006497751969955923, 'decisive': 0.004809412321096412, '##ly': 0.002724372138531145, 'these': 0.0023549047143760476, 'accomplished': 0.006631845635010751, 'what': 0.0036382300226204967, 'all': 0.0030846647889923194, 'those': 0.0050381686523793354, 'bob': 0.013689412977461842, '##field': 0.002853912418040729, 'eric': 0.006883344381240456, 'never': 0.0061517964638895, 'strong': 0.0036792012910927515, 'may': 0.0023468581130919757, 'have': 0.004022383081669784, 'watching': 0.006161611272772512, 'television': 0.0041195636425652655, 'night': 0.002351733245702187, 'when': 0.001568872840816098, 'came': 0.0021350330361870258, 'his': 0.00242498090874677, 'talked': 0.005169733962480882, 'how': 0.009707026252066892, 'hollywood': 0.0030899358000007816, 'guys': 0.01452490598841033, 'don': 0.0026035932473728596, 'hit': 0.0013225828949948967, 'hey': 0.0020892395901502916, 'wisconsin': 0.0014307383548492216, 'beautiful': 0.0017661174392808578, 'beauty': 0.0025830091126615245, 'course': 0.0019301689755332019, 'eye': 0.004502519837254557, 'behold': 0.008573563695492175, '##er': 0.0028138704548107277, 'opening': 0.0022723461476201437, 'kickoff': 0.0022738762496811735, '##iz': 0.002110722721842764, 'much': 0.003774060733426832, 'wind': 0.0035229169281696866, 'got': 0.0010482303359032165, 'grew': 0.002241488178732889, 'playing': 0.002847553552821513, 'said': 0.006431920623771384, 'can': 0.007456312405153229, 'jim': 0.012102583690145611, 'quarterback': 0.02252483327514018, 'described': 0.0031553131526494793, 'bone': 0.004382394480705303, 'anyone': 0.003201632717022704, 'familiar': 0.0048890875278387235, 'tropical': 0.002243236132741283, 'thinks': 0.00436561526088631, 'might': 0.004913727143953851, 'howling': 0.00923033943760597, 'freeze': 0.005050750786569398, '##r': 0.00488944809842375, 'has': 0.007549392233247935, 'recent': 0.0031405064439557692, 'according': 0.008550570229081948, 'national': 0.003624023739315291, 'saturday': 0.002467576420920057, 'sunny': 0.00526026317044186, 'temperatures': 0.007417594146140176, 'afternoon': 0.0020150312340250958, 'whatever': 0.002194391708883998, 'any': 0.004433440377114206, 'entire': 0.012172330361203099, 'league': 0.0018029853219847642, 'eight': 0.004872381652754574, 'seven': 0.005693718569933237, 'starting': 0.004943397241949642, '##ut': 0.004311698267536137, 'san': 0.007485230439564878, 'francisco': 0.0021179461335307536}}, 3: {0: {'tunnel': 0.002752644579904308, 'stadium': 0.003871367507804967, 'tom': 0.004191309375441736, 'yelled': 0.004663128781183736, 'warm': 0.009621384265726679, 'weather': 0.007020275162358727, 'grin': 0.007703472989168679, 'disappeared': 0.0036860132936015746, 'locker': 0.00583735308265696, 'calmly': 0.003448015728889361, 'celebrate': 0.002251340294161128, 'card': 0.0032616271540571247, 'philadelphia': 0.02001374729394196, 'which': 0.011403075982266494, 'qualified': 0.005921708210451785, 'against': 0.004249448595666911, '##iv': 0.009960265014497953, 'tournament': 0.0027513492094633635, 'yesterday': 0.0028439239050054637, 'played': 0.0058433838287975685, 'like': 0.002513867014673183, 'playoff': 0.00479656861925117, 'games': 0.0037581221933746666, 'moved': 0.010384740380503158, 'from': 0.007193860093913683, 'four': 0.00437427464035193, 'ago': 0.003663507422144421, 'warmth': 0.012637118045127778, '##dome': 0.020599744221520246, 'year': 0.007007369847271912, 'washington': 0.0076096397792072045, 'each': 0.002808251729308574, 'detroit': 0.004187900283942983, 'bay': 0.0048872322779477595, 'chicago': 0.005516115566838092, 'get': 0.006499120475654906, 'this': 0.007962552572859003, 'wasn': 0.008679957204138264, 'somewhat': 0.002276060628164795, '##iously': 0.006933689210207301, '##ly': 0.002865586062597164, 'having': 0.01993531794630564, 'accomplished': 0.0018623200628720144, 'those': 0.004730100086101367, 'bob': 0.006944726117820997, 'deacon': 0.018207045895042507, 'jones': 0.022049725257352538, 'eric': 0.0037297213241019632, 'never': 0.0036009623204225527, 'inspired': 0.009953019837219483, 'was': 0.012468081968973362, 'saying': 0.004780235314040349, 'talked': 0.0023394362596694906, 'how': 0.005240893767159924, 'guys': 0.012042635227892283, 'behold': 0.01001313964504573, 'game': 0.006125151270411509, '##zle': 0.009817120729473005, 'said': 0.006730274116090822, 'can': 0.005820694806840753, 'win': 0.010906499432620363, 'jim': 0.011383623229994283, 'quarterback': 0.013636361178309478, 'almost': 0.013050808469797764, 'marrow': 0.008267894217589906, 'service': 0.024182823117717564, 'temperatures': 0.008272116102615037, 'must': 0.00841027282446736, 'entire': 0.010811172095951073, 'league': 0.0032268701189720377, 'their': 0.007216873641798202, 'anaheim': 0.010646762453296283, 'only': 0.01730687288271695, 'loss': 0.02193289526367936}, 1: {'los': 0.0015242107977490155, 'angeles': 0.002829927399912539, 'rams': 0.000898372072407642, 'left': 0.00227449967218068, '##berry': 0.0010540145053981572, 'california': 0.0016589695461608545, 'sis': 0.0007607553624707872, '##sies': 0.001319516897161341, 'with': 0.013587786710145162, 'into': 0.00203929270716545, 'victory': 0.002433357436888851, 'over': 0.0011644642440494359, 'raw': 0.006102605912740562, 'rain': 0.0014624211819971, 'giants': 0.000876935232463602, 'next': 0.006270188082940601, 'sunday': 0.0013635861791022736, 'super': 0.0007824614497715402, 'bowl': 0.0033996422920745725, 'had': 0.001173742643986822, 'always': 0.001248913929032527, 'were': 0.006574587160026456, 'since': 0.0029276750520711914, 'franchise': 0.006983160344854508, 'cleveland': 0.006284611926549913, 'more': 0.004498781526641497, 'than': 0.0017483399852629355, 'decades': 0.0018968407069712985, 'that': 0.020736152406222327, 'ram': 0.0020156998842793955, 'lost': 0.00650588843128416, 'three': 0.0028801898545206786, 'outdoor': 0.0025540361359073826, 'plus': 0.004255120181937653, 'one': 0.005783300038302607, 'two': 0.004916104261346279, 'tired': 0.0030709579216996394, '##man': 0.0010461711523392168, 'news': 0.008564631330240316, 'robinson': 0.004617316991915541, 'coach': 0.001212969681295826, 'joked': 0.0026762432143366123, 'very': 0.0011766904894011988, 'day': 0.0010874458698847181, 'play': 0.002566309852336757, 'your': 0.0016212965456570412, 'ted': 0.006976100574817711, 'decisive': 0.005888518595801361, 'these': 0.00103849697886316, 'what': 0.003511826046280657, 'all': 0.0017155343956299699, '##field': 0.0039795886938523055, 'strong': 0.002162052673757534, 'may': 0.0030532262537413197, 'have': 0.0037102225839946894, 'watching': 0.003380508262952252, 'television': 0.002100597547492333, 'night': 0.000954570999876615, 'when': 0.001398529884116825, 'came': 0.0012240285374411704, 'his': 0.002636490487877812, 'hollywood': 0.0016356616033664127, 'don': 0.003412058340553126, 'hit': 0.0008178137722217925, 'hey': 0.0011588643865808996, 'wisconsin': 0.0019951623806144982, 'beautiful': 0.0011509726652351943, 'beauty': 0.0025133178131119976, 'course': 0.0012125178008245059, 'eye': 0.002395156532161601, '##er': 0.0013065933784276893, 'opening': 0.0013229992535520704, 'kickoff': 0.0009182254590759404, '##iz': 0.0008030918676132258, 'much': 0.002871480427237098, 'wind': 0.004570442642481183, 'got': 0.0022736984914887935, 'grew': 0.0008962046062986472, 'playing': 0.0034237467578730175, 'described': 0.0013991647781173072, 'bone': 0.0038471733115441947, 'anyone': 0.0018396923270132804, 'familiar': 0.002486932117236052, 'tropical': 0.001265731364406053, 'thinks': 0.0033417753682930687, 'might': 0.005565314480140867, 'howling': 0.008246005482334354, 'freeze': 0.003649997689913077, '##r': 0.004552119653661783, 'has': 0.0071500966288713915, 'recent': 0.002157923673681883, 'according': 0.008246231279722379, 'national': 0.0032901101698020545, 'saturday': 0.0010423576619087854, 'sunny': 0.004128740013320328, 'afternoon': 0.0007377863919388364, 'whatever': 0.0010912686956277586, 'any': 0.002412137988141396, 'eight': 0.002316845499106038, 'seven': 0.002902661407493592, 'starting': 0.0038557508922084697, '##ut': 0.0022676575706494554, 'san': 0.008114148565154139, 'francisco': 0.0016075905010777159}, 2: {'hurrying': 0.01381626521137871, 'through': 0.023768376656234397, 'the': 0.01704048987739559, 'veterans': 0.011430794266790242, 'guard': 0.009874800695359034, 'new': 0.012549460845824912, 'huh': 0.013698361746902431, 'room': 0.010901047379175325, 'wild': 0.006081873297738955, 'eagles': 0.007365566881379098, 'cold': 0.007962480500039925, 'but': 0.023402801576691102, 'until': 0.010873342660559655, 'time': 0.008387139797269993, 'teams': 0.01421291605599041, 'minnesota': 0.01273592251766133, 'metro': 0.012267795168992608, 'and': 0.03447192759365372, 'green': 0.01347675385595731, 'being': 0.01090330562387728, 'fired': 0.016000992298624575, 'going': 0.006507332238921121, 'right': 0.02827773563527321, 'john': 0.012754296271149356, 'nice': 0.009468344794429186, 'football': 0.008261685296663464, 'unless': 0.0051802484317565985, 'team': 0.00626714298970012, 'won': 0.015562597546215553, 'did': 0.01227168668892814, 'enjoyed': 0.01874117574185617, 'water': 0.006599812362615219, 'dick': 0.017049439226476507, '##erson': 0.03565058353275252, 'safety': 0.009734187706303618, 'andre': 0.017056484426295822, 'waters': 0.009353013252144476, 'them': 0.008337871284893099, 'last': 0.006398797448396048, 'now': 0.018595597431421904, 'about': 0.02347588427253562, 'want': 0.008465105494111879, 'degrees': 0.01752088030083468, '##long': 0.011194748509612771, 'not': 0.011714350340456679, 'lot': 0.017163934733920312, 'who': 0.009805892717478112, 'prove': 0.009602453371081043, 'everett': 0.009679753896717413, 'factor': 0.01320802278460142, 'find': 0.011882462403795938, 'weeks': 0.01668658657841556, 'long': 0.015842959650965823, 'range': 0.029138340041081727, 'forecast': 0.03344777330603607, 'front': 0.028113644464271826, 'will': 0.0065528792612086955, 'create': 0.010465736638084942, 'confront': 0.020547055034164236, 'well': 0.029728864120280574, 'span': 0.006146515983917423}}, 4: {0: {'hurrying': 0.013187713471103481, 'through': 0.021912979705556692, 'the': 0.010372955671803855, 'veterans': 0.00874828485440854, 'huh': 0.013888916003031783, 'but': 0.016590528616683024, 'that': 0.01808142724527879, 'and': 0.023413183628234323, 'right': 0.023436741567104, 'won': 0.014804139913745296, 'enjoyed': 0.019624167636765846, 'was': 0.008671561368529573, 'now': 0.009616469476958118, 'about': 0.011256739551755055, 'degrees': 0.021355796087577268, 'almost': 0.009940694053156604, 'find': 0.009521361318751743, 'weeks': 0.01799705982916922, 'service': 0.018474752537731964, 'long': 0.014551119167924563, 'range': 0.01930922410555255, 'forecast': 0.020384254060443974, 'front': 0.01626769888694226, 'create': 0.01168581175577373, 'must': 0.007568226191123997, 'confront': 0.013922016270611244, 'well': 0.013838051917521773, 'only': 0.012512596183560614, 'loss': 0.011599561746868336}, 1: {'tunnel': 0.002353748054165849, 'stadium': 0.0038302606098680305, 'tom': 0.0035827250182967675, 'yelled': 0.004556963794564358, 'warm': 0.009800031667593608, 'weather': 0.006794089180327907, 'grin': 0.007819953788196611, 'disappeared': 0.0030396820361269883, 'locker': 0.005423753770556394, 'calmly': 0.003118236430382196, 'celebrate': 0.0018057911693250234, 'card': 0.002889769105512673, 'philadelphia': 0.020903284261084006, 'which': 0.011061677331010126, 'qualified': 0.005983375862702568, 'against': 0.0038439715316452416, '##iv': 0.010274534189559103, 'tournament': 0.0024118368355615077, 'yesterday': 0.002895366038255554, 'played': 0.005938628521710705, 'like': 0.0023525498108306455, 'playoff': 0.0045256585892736, 'games': 0.0037369022230287693, 'were': 0.0062547991382595975, 'moved': 0.01038217880104215, 'from': 0.007075513799737147, 'more': 0.004191397542512543, 'four': 0.003962291569494798, 'ago': 0.003376019509879152, 'warmth': 0.012804004895279948, '##dome': 0.021656328580385936, 'year': 0.007046207223547756, 'washington': 0.007569073407266259, 'each': 0.0022955145625004354, 'detroit': 0.0035756415108719446, 'bay': 0.004486094845239501, 'chicago': 0.0049245410211519675, 'get': 0.006480976583973678, 'news': 0.008567553627672982, 'this': 0.008838957154827614, 'wasn': 0.009008043188184428, 'somewhat': 0.0022647856903483103, '##iously': 0.006948366734713759, '##ly': 0.002468947897590708, 'having': 0.020657840667631145, 'accomplished': 0.0015990907143997438, 'those': 0.004435391891578481, 'bob': 0.0067267232694537766, 'jones': 0.02254850538430239, 'eric': 0.0034893914484207893, 'never': 0.003094803317999636, 'saying': 0.005346603042042659, 'talked': 0.0019510015562133319, 'how': 0.005012971961230837, 'guys': 0.01197819691714799, 'behold': 0.00950002245010913, 'game': 0.006586821139861218, '##zle': 0.00970546432234253, 'said': 0.0059824989481942386, 'can': 0.005865945826809941, 'win': 0.0112217852680309, 'jim': 0.010896113698300352, 'quarterback': 0.013674758322942963, 'marrow': 0.00872312414527664, 'temperatures': 0.008261805993577039, 'entire': 0.011226489248945381, 'league': 0.002710081102635162, 'their': 0.008054886956629469, 'anaheim': 0.011349089163355423}, 2: {'los': 0.0015012909749047977, 'angeles': 0.002742594794399836, 'rams': 0.0008277006000197561, 'left': 0.0022156950435936774, '##berry': 0.000994839540890997, 'california': 0.0016137901745486394, 'sis': 0.0006992697422510774, '##sies': 0.0012348557204069494, 'with': 0.013846714975633652, 'into': 0.0019321406737494952, 'victory': 0.002359565722904395, 'over': 0.0010633882745842585, 'raw': 0.006245678288363272, 'rain': 0.0014288670753886605, 'giants': 0.0008206252477312855, 'next': 0.006382233665253608, 'sunday': 0.0012575954858127841, 'super': 0.0007166463774530247, 'bowl': 0.003596679081873729, 'had': 0.0011041759839368805, 'always': 0.0011685552527710824, 'since': 0.00293402296559006, 'franchise': 0.0071922432479276585, 'cleveland': 0.006391696312635397, 'than': 0.0015899553835273296, 'decades': 0.0019944330880615584, 'ram': 0.0020022705123042806, 'lost': 0.006678879304734086, 'three': 0.0027953880006302213, 'outdoor': 0.002641276743059756, 'plus': 0.004409463551365989, 'one': 0.005639300444102785, 'two': 0.004757391348743611, 'tired': 0.003012193334432582, '##man': 0.0009776722666929919, 'robinson': 0.004578124231790766, 'coach': 0.0011494957317330914, 'joked': 0.0027742194348603037, 'very': 0.0011134145837862674, 'day': 0.0010859533774100084, 'play': 0.0026306265281781233, 'your': 0.0016065552979467146, 'ted': 0.007016632748780475, 'decisive': 0.005867717102697685, 'these': 0.0009679287233590432, 'what': 0.003573712614536264, 'all': 0.0016774424589569923, '##field': 0.004082966218236106, 'strong': 0.0020960289280622852, 'may': 0.0031826644367119487, 'have': 0.003807602395525772, 'watching': 0.0031945364594571277, 'television': 0.00195532060617133, 'night': 0.000925721242616172, 'when': 0.001468857177913263, 'came': 0.0011509986883021088, 'his': 0.0026269244448531084, 'hollywood': 0.0014872890463106725, 'don': 0.0034768566578012344, 'hit': 0.000784877078100948, 'hey': 0.0011080726465970414, 'wisconsin': 0.0020181529089549773, 'beautiful': 0.0011059771047649636, 'beauty': 0.002528156462468849, 'course': 0.0012273919671720024, 'eye': 0.002203906088824977, '##er': 0.001174099433060754, 'opening': 0.0012140487884509477, 'kickoff': 0.0008687336830041543, '##iz': 0.0007119143572953141, 'much': 0.0028773484279106237, 'wind': 0.0046573479659795, 'got': 0.0023624033387117703, 'grew': 0.0008582549779402195, 'playing': 0.003552519043857872, 'described': 0.0012701245310400581, 'bone': 0.0039106880724021475, 'anyone': 0.0017820260824956474, 'familiar': 0.0023245247296505935, 'tropical': 0.0012547436875198577, 'thinks': 0.003424836371230881, 'might': 0.005746437669257572, 'howling': 0.008312889358092402, 'freeze': 0.0036486971610422293, '##r': 0.004690183953561346, 'has': 0.007317634846584496, 'recent': 0.002205967379924826, 'according': 0.008427490722797349, 'national': 0.0033564562783258674, 'saturday': 0.0009462052218600285, 'sunny': 0.004178533722763261, 'afternoon': 0.0006908333153276508, 'whatever': 0.0011047440660088184, 'any': 0.0023815640983157723, 'eight': 0.002198903839345219, 'seven': 0.0027608553451960683, 'starting': 0.003884381317629412, '##ut': 0.0022091153166189127, 'san': 0.008292792491296438, 'francisco': 0.0016173641115759595}, 3: {'guard': 0.005441072621573467, 'new': 0.007822531858365553, 'room': 0.011633273856166183, 'wild': 0.008273453690091432, 'eagles': 0.004409607646131093, 'cold': 0.00910043982080701, 'until': 0.005610102780951877, 'time': 0.00860625748705579, 'teams': 0.017566796339406165, 'minnesota': 0.008582767491141292, 'metro': 0.010686215793597204, 'green': 0.008771302130780406, 'being': 0.008453444792025668, 'fired': 0.01803701777906964, 'going': 0.004979700647041123, 'john': 0.006797603298655418, 'nice': 0.011122268430755639, 'football': 0.004738701174492329, 'unless': 0.0034024797524430613, 'team': 0.004465608377437794, 'did': 0.012777078473588863, 'water': 0.004054458340284275, 'deacon': 0.014706805230590531, 'dick': 0.0119974344087137, '##erson': 0.03358079096949905, 'safety': 0.004749407381675851, 'andre': 0.01340828796157779, 'waters': 0.006815823160767349, 'inspired': 0.009651297910729844, 'them': 0.006348563434526551, 'last': 0.006014215035317861, 'want': 0.00452628879560107, '##long': 0.005228484756880407, 'not': 0.011958383621448803, 'lot': 0.010496608534133148, 'who': 0.009648639779690186, 'prove': 0.009593385083276479, 'everett': 0.012128124621291002, 'factor': 0.014188257901872758, 'will': 0.00847233764292594, 'span': 0.006701131053718397}}, 5: {0: {'guard': 0.004875057524120609, 'new': 0.006589012642052591, 'room': 0.012630648340342273, 'wild': 0.007821788343770765, 'eagles': 0.0036358637752239406, 'cold': 0.007761490178138217, 'until': 0.0060003419655379675, 'time': 0.007953568626682185, 'teams': 0.017989717664751707, 'minnesota': 0.008338956815637339, 'metro': 0.011006151925654538, 'green': 0.009509253937175003, 'fired': 0.018800630182653322, 'going': 0.005814523857103882, 'john': 0.006868860315302382, 'nice': 0.01069338110417311, 'football': 0.0037358732593321176, 'unless': 0.003724077581743528, 'team': 0.0033674583129303295, 'did': 0.01240815105076574, 'water': 0.005137038791619684, 'dick': 0.010407526257961647, 'safety': 0.005184985973507779, 'waters': 0.005775742548189604, 'them': 0.006342842163886488, 'last': 0.00503135319802216, 'want': 0.004420378829216006, 'degrees': 0.020805758253398865, '##long': 0.005227593536150774, 'lot': 0.01117136796072267, 'everett': 0.010878524309173052, 'factor': 0.013538346352157435, 'will': 0.007973038862244212, 'span': 0.006856771469359955}, 1: {'los': 0.0013925737480279302, 'angeles': 0.0027224969822292693, 'rams': 0.0008988476958309178, 'left': 0.0024523398937490865, '##berry': 0.0010892191844151349, 'california': 0.0017412615833985437, 'sis': 0.0008111263546497966, '##sies': 0.0011596015095440006, 'with': 0.013789758377046643, 'into': 0.0020949056935265138, 'victory': 0.002479823012531338, 'over': 0.0011271777492579782, 'raw': 0.006297536823796979, 'rain': 0.0014656904002956236, 'giants': 0.0009293459547791087, 'next': 0.006404741327402296, 'sunday': 0.001332877527312437, 'super': 0.0007088366582982996, 'bowl': 0.003357822943502169, 'had': 0.001173440116111903, 'always': 0.0013434440328307098, 'since': 0.003208723619467714, 'franchise': 0.007119521920388021, 'cleveland': 0.006210740943107348, 'more': 0.004461111146363647, 'than': 0.0016593903531500742, 'decades': 0.0019009820421496, 'ram': 0.0018373801783732894, 'lost': 0.006495072775201387, 'three': 0.003021101075702905, 'outdoor': 0.002418856398433114, 'plus': 0.004054752723697529, 'one': 0.006053658978301105, 'two': 0.005131390068733395, 'tired': 0.003263705844489004, '##man': 0.0010333213394098327, 'news': 0.008401677797586205, 'coach': 0.0010668607110169194, 'joked': 0.002616485443523341, 'very': 0.0011433971835278153, 'day': 0.0009445692117348526, 'play': 0.0023988272789372267, 'your': 0.001725485606937971, 'ted': 0.007270698068967608, 'these': 0.0009444327807032428, 'what': 0.0033967451631433452, 'all': 0.0015613735946328343, '##field': 0.003735771878017784, 'strong': 0.0020862085383333982, 'may': 0.003056660929470955, 'have': 0.003950474401967865, 'watching': 0.0031601527976240448, 'television': 0.0019147699571134074, 'night': 0.000891754538064194, 'when': 0.001315206424199333, 'came': 0.0011113819753292857, 'his': 0.0028175795973407565, 'hollywood': 0.0016418952108057342, 'don': 0.003533147921008607, 'hit': 0.0008988487429272983, 'hey': 0.0011060657996908216, 'wisconsin': 0.0020896100980190646, 'beautiful': 0.0010743197911957144, 'beauty': 0.0022612636457145585, 'course': 0.0011608541639797952, 'eye': 0.002325333151594319, '##er': 0.0013205574108081577, 'opening': 0.0013764120660538842, 'kickoff': 0.0008572147670363802, '##iz': 0.0008321970542260041, 'much': 0.002642163069290464, 'got': 0.0021967440183473636, 'grew': 0.0009422434951738289, 'playing': 0.0033290494105442116, 'said': 0.008623110780509109, 'described': 0.0012835345153110855, 'bone': 0.003678736387070594, 'anyone': 0.001847462496185538, 'familiar': 0.002315717981647335, 'tropical': 0.001171987462903602, 'thinks': 0.0034988772067491986, 'might': 0.005306046261756436, 'howling': 0.008496706073003235, 'freeze': 0.0036524101483422404, '##r': 0.004458279875337371, 'has': 0.007417918497045553, 'recent': 0.0021812385956629762, 'according': 0.00840395768947522, 'national': 0.0035555460110643345, 'saturday': 0.0009623519894273649, 'sunny': 0.004213336015211585, 'temperatures': 0.008863962997303137, 'afternoon': 0.0006622943611900845, 'whatever': 0.0010294328282818125, 'any': 0.0023678555999803556, 'eight': 0.00219221621991204, 'seven': 0.0027924429266664038, 'starting': 0.0039997510585261025, '##ut': 0.0021378959497085808, 'francisco': 0.0017620188131688122}, 2: {'grin': 0.002156263445848981, 'locker': 0.007386143538457113, 'philadelphia': 0.008978463698724213, 'qualified': 0.0058149540383336095, 'games': 0.003076325924851226, 'from': 0.004605516034836846, 'ago': 0.004860232073285453, 'warmth': 0.01107123371445285, '##dome': 0.0110792616167975, 'chicago': 0.006696691819902272, 'enjoyed': 0.011670624928205878, 'having': 0.008302438917517427, 'bob': 0.004086661441063685, 'deacon': 0.007951566992028957, 'jones': 0.00660362859228668, '##erson': 0.01978966395715004, 'andre': 0.013327143831868879, 'saying': 0.0034871017411515466, 'how': 0.005253020266785417, 'not': 0.013354021877222899, 'who': 0.008122541859090905, 'prove': 0.008498256190497135, 'quarterback': 0.004913666631794318, 'service': 0.015156031128901154, 'entire': 0.012006661141518278}, 3: {'tunnel': 0.003610479260890382, 'stadium': 0.0031646673497588247, 'tom': 0.00259155913002793, 'yelled': 0.004196720040650555, 'warm': 0.007659943435352003, 'weather': 0.0043118375706205836, 'disappeared': 0.002903589029073686, 'calmly': 0.004425635294228143, 'celebrate': 0.0020455609890807054, 'card': 0.0019382758416003933, 'which': 0.009527130244447827, 'against': 0.001593490569651033, '##iv': 0.011947823067724917, 'tournament': 0.002636648414573214, 'yesterday': 0.003902598292252269, 'played': 0.008613640362145611, 'like': 0.0016620716360263757, 'playoff': 0.0038755804621309524, 'were': 0.004453792161031136, 'moved': 0.009250256333859464, 'four': 0.0022062773344263846, 'year': 0.007269600285782223, 'washington': 0.008217472242979853, 'each': 0.003035658500117743, 'detroit': 0.0027317799373833963, 'bay': 0.004967612532645608, 'being': 0.007172264206413781, 'get': 0.006250605472789016, 'robinson': 0.004170506479680749, 'this': 0.0081356230588204, 'wasn': 0.008027060726660085, 'somewhat': 0.0020481836357942053, '##iously': 0.006717902591220492, 'decisive': 0.00377333264605965, '##ly': 0.0029860693439312824, 'accomplished': 0.0019846200915673833, 'those': 0.0021681868029928674, 'eric': 0.002869342912879427, 'never': 0.0037867128858573643, 'inspired': 0.0066705874352150545, 'talked': 0.003414574936826646, 'guys': 0.013567249416236236, 'behold': 0.0049952311822656645, 'game': 0.005429899273628012, '##zle': 0.00527218230402866, 'wind': 0.0029628368574603405, 'can': 0.0042490909263721574, 'win': 0.007836248931945029, 'jim': 0.0068356630785809, 'marrow': 0.008075441317350166, 'must': 0.007894221525951478, 'league': 0.003186067702002347, 'their': 0.0072440623526796605, 'anaheim': 0.00849111575374539, 'san': 0.007362153107136929}, 4: {'hurrying': 0.014593945011118712, 'through': 0.021581935223815293, 'the': 0.011069600680621388, 'veterans': 0.00879839064762987, 'huh': 0.014150795853003207, 'but': 0.017743034181316765, 'that': 0.017204045746319223, 'and': 0.023336288256269874, 'right': 0.022383902840947288, 'won': 0.01544165060020122, 'was': 0.008762904983632108, 'now': 0.008967641344769118, 'about': 0.009577559753440872, 'almost': 0.009060084632838502, 'find': 0.009120189249433025, 'weeks': 0.017220704318202176, 'long': 0.01350399811495038, 'range': 0.020297333056358915, 'forecast': 0.020220043082539555, 'front': 0.015591526527207251, 'create': 0.01148822706194991, 'confront': 0.014550775221333278, 'well': 0.013550663321027783, 'only': 0.012800222734733784, 'loss': 0.01069821167548945}}, 6: {0: {'los': 0.001579597866560873, 'angeles': 0.002582956449823211, 'rams': 0.0006733864270543727, 'left': 0.002201285140523384, '##berry': 0.0009102458622657065, 'california': 0.0015709789019759174, 'sis': 0.000556446116939778, '##sies': 0.0010975505812549544, 'with': 0.014184677405682078, 'into': 0.0017578865750593467, 'victory': 0.0021046014894412013, 'over': 0.0007817702790356443, 'rain': 0.0015217034234952262, 'giants': 0.0006936124059186981, 'next': 0.006461538705687455, 'sunday': 0.0009539091182097959, 'super': 0.0006059200002767916, 'had': 0.0010505064842873143, 'always': 0.0009629429107323119, 'since': 0.0031137672056114132, 'than': 0.0011514547588506129, 'ram': 0.0020859510621904997, 'three': 0.002727164379489406, 'outdoor': 0.003013852197188673, 'one': 0.005344722219968916, 'two': 0.004390464655970494, 'tired': 0.0029044626303574945, '##man': 0.0007675166917706054, 'robinson': 0.004593057651222189, 'coach': 0.001011866479310083, 'very': 0.000930088386674524, 'day': 0.001230218064921226, 'play': 0.0029717427939051325, 'your': 0.001571099043560569, 'ted': 0.007152031637311856, 'decisive': 0.005970544496536461, 'these': 0.0008422745985769397, 'what': 0.004055699432198537, 'all': 0.0016614463151805176, 'strong': 0.0019240586444761957, 'have': 0.004028666745592604, 'watching': 0.0026325701157545005, 'television': 0.0015779527053287811, 'night': 0.0008047222315411384, 'when': 0.0017846292416640462, 'came': 0.0011063260426520478, 'his': 0.002745643883791858, 'hollywood': 0.0011254583479360992, 'hit': 0.0007502521962235681, 'hey': 0.0010656678137264067, 'wisconsin': 0.002236295214130376, 'beautiful': 0.0011430093384693116, 'beauty': 0.0028207660690273044, 'course': 0.0013959663103281252, 'eye': 0.0016606001014432398, '##er': 0.0008227014695523909, 'opening': 0.0009750680028331149, 'kickoff': 0.0007803848698716455, '##iz': 0.0004901311316491538, 'much': 0.0030662676988797064, 'grew': 0.0006936386705831485, 'described': 0.0009319286584365912, 'bone': 0.004202238519776826, 'anyone': 0.001617634397392617, 'familiar': 0.0018728119945290085, 'tropical': 0.0012564033051059953, 'thinks': 0.0034337966591483867, 'howling': 0.008527351262292095, 'freeze': 0.003540199934922671, '##r': 0.005040722079238436, 'has': 0.007624989373047917, 'recent': 0.002286266687184847, 'according': 0.008840335951991749, 'national': 0.003506470061390652, 'saturday': 0.0006915353022237141, 'sunny': 0.004358643411098947, 'afternoon': 0.0005917896228049358, 'whatever': 0.0010652910402498056, 'any': 0.002202990216106084, 'eight': 0.0017335260458934433, 'seven': 0.0022005337128770696, 'starting': 0.0038621299590304243, '##ut': 0.001960112175835389, 'francisco': 0.001613065400908697}, 1: {'hurrying': 0.014763325182410091, 'through': 0.022809759400611314, 'the': 0.01343761570214234, 'but': 0.015873254326034113, 'that': 0.01728689423470107, 'and': 0.020309017212397473, 'right': 0.022479701513651463, 'won': 0.013962787169962108, 'was': 0.01011004700711669, 'now': 0.00990173207377196, 'about': 0.009868630804817194, 'weeks': 0.018309515331570908, 'service': 0.016290774425283983, 'range': 0.01648001757556768, 'forecast': 0.018772266810920687, 'front': 0.01485227411562938, 'confront': 0.016266240048398623, 'well': 0.01073004025365143, 'only': 0.011396992960038183, 'loss': 0.010796220984438035}, 2: {'new': 0.008712293105411998, 'room': 0.010132918866963969, 'teams': 0.01660255025458701, 'minnesota': 0.00514550489404829, 'green': 0.005619739333773938, 'fired': 0.014295870054217254, 'john': 0.005164454833799283, 'football': 0.004070235137531586, 'unless': 0.005462877612514692, 'team': 0.005677325893693886, 'did': 0.011964710408185806, 'dick': 0.007673978212322192, 'waters': 0.004088513481165353, 'them': 0.008246955391468703, 'last': 0.006329876130457217, 'degrees': 0.01922341708746875, '##long': 0.004070845189306178, 'lot': 0.007986087885281257, 'factor': 0.011819115352013528, 'span': 0.007902168202967573}, 3: {'grin': 0.0021845737744767366, 'philadelphia': 0.009476557185033976, 'qualified': 0.00583376639686371, 'games': 0.004786750205225723, 'from': 0.007114311206426482, '##dome': 0.011542853263723363, 'enjoyed': 0.010916094688337003, 'having': 0.007617295003623272, 'bob': 0.005701433359485269, 'deacon': 0.005797349228622011, 'jones': 0.0058595778562685425, '##erson': 0.015475583901026354, 'andre': 0.009472790103834653, 'saying': 0.004250233524569232, 'not': 0.011851412583785845, 'who': 0.007610286110545895, 'prove': 0.00644286045964143, 'quarterback': 0.005882768313018085}, 4: {'tunnel': 0.0018192076300041025, 'stadium': 0.0029760626569105175, 'tom': 0.0033365344600417737, 'weather': 0.006178720779377046, 'disappeared': 0.003975940482846307, 'locker': 0.007782624477196251, 'calmly': 0.0021220605149965127, 'celebrate': 0.0022028247556703942, 'raw': 0.005755687231600558, 'against': 0.0033175785351738972, 'bowl': 0.0020944743017494373, '##iv': 0.011478977614301646, 'tournament': 0.003932900184461433, 'yesterday': 0.0029774543226153776, 'played': 0.005639213093533287, 'playoff': 0.00414217871650757, 'were': 0.004806954426465206, 'franchise': 0.005857704241499911, 'moved': 0.010072264948613309, 'cleveland': 0.006388000410316186, 'more': 0.0024930806483242657, 'decades': 0.001999705472918958, 'ago': 0.005033367502951863, 'lost': 0.005294268898441079, 'plus': 0.0031984572199740243, 'warmth': 0.012324431677601692, 'year': 0.005600187758559019, 'each': 0.002239062336930459, 'detroit': 0.0027421650909336117, 'bay': 0.005188289177569258, 'chicago': 0.004682893111285442, 'get': 0.00507585079708198, 'news': 0.006436910575460678, 'joked': 0.0018112499412515487, 'somewhat': 0.0023554847265518583, '##ly': 0.0012830003810949016, 'accomplished': 0.0031474973984726216, 'those': 0.004102587733673869, '##field': 0.0031256928921793866, 'eric': 0.004036990143993114, 'never': 0.004058323228631067, 'may': 0.00319315381781056, 'talked': 0.0025888466765409237, 'how': 0.0056069391200887445, 'guys': 0.011007146979323357, 'don': 0.003313334054921643, 'wind': 0.004179957521575889, 'got': 0.0013894568723728054, 'playing': 0.0039771898726833005, 'said': 0.004720336144894249, 'can': 0.005631073440340091, 'might': 0.005474390210383723, 'temperatures': 0.006496109699701379, 'must': 0.009230561192572742, 'entire': 0.009651438466979015, 'league': 0.0011814238604412363, 'san': 0.008187746201313177}, 5: {'veterans': 0.00975290054692235, 'guard': 0.006462592914045083, 'yelled': 0.004776773207904862, 'warm': 0.00774139207609478, 'huh': 0.014875087063469768, 'wild': 0.0075035768769684125, 'card': 0.0037762180038625214, 'eagles': 0.004645119498679307, 'cold': 0.004772656772840238, 'which': 0.0113815731336386, 'until': 0.005924908858298544, 'like': 0.003510509976318421, 'four': 0.003056614571233954, 'time': 0.006879616620101488, 'metro': 0.0077000231144053926, 'washington': 0.00770139565596856, 'being': 0.003376676060919007, 'going': 0.005441981643486367, 'this': 0.006382349761234062, 'wasn': 0.008027801296638472, 'nice': 0.009738153073311811, '##iously': 0.005481706010128167, 'water': 0.0051983543687552465, 'safety': 0.005843514333844301, 'inspired': 0.00357284013124105, 'want': 0.006091663823749564, 'behold': 0.005612768920344981, 'game': 0.003523520350309278, '##zle': 0.003963327422032007, 'win': 0.004959438824197228, 'jim': 0.006083931476904579, 'everett': 0.008526628849074552, 'almost': 0.011917766463485763, 'find': 0.008860033127340136, 'marrow': 0.008379595124512371, 'long': 0.013597628823716026, 'will': 0.004165582263341484, 'create': 0.010226529484029011, 'their': 0.0073643747541040205, 'anaheim': 0.006142067115035301}}}\n"
          ]
        }
      ]
    }
  ]
}