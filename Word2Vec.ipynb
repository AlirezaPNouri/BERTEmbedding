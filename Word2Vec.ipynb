{
  "nbformat": 4,
  "nbformat_minor": 0,
  "metadata": {
    "colab": {
      "name": "Word2Vec.ipynb",
      "provenance": [],
      "collapsed_sections": [],
      "authorship_tag": "ABX9TyNiCMLyZFd+5edrrJVV3D4x",
      "include_colab_link": true
    },
    "kernelspec": {
      "name": "python3",
      "display_name": "Python 3"
    },
    "language_info": {
      "name": "python"
    }
  },
  "cells": [
    {
      "cell_type": "markdown",
      "metadata": {
        "id": "view-in-github",
        "colab_type": "text"
      },
      "source": [
        "<a href=\"https://colab.research.google.com/github/AlirezaPNouri/BERTEmbedding/blob/main/Word2Vec.ipynb\" target=\"_parent\"><img src=\"https://colab.research.google.com/assets/colab-badge.svg\" alt=\"Open In Colab\"/></a>"
      ]
    },
    {
      "cell_type": "code",
      "metadata": {
        "id": "pca_C4VXGtNu"
      },
      "source": [
        "# Implementing Word2Vec\n",
        "# Author: Alireza P. Nouri\n",
        "# Advisor: M. Shahriar Hossain"
      ],
      "execution_count": null,
      "outputs": []
    },
    {
      "cell_type": "code",
      "metadata": {
        "colab": {
          "base_uri": "https://localhost:8080/"
        },
        "id": "wLB2bBUnJCIY",
        "outputId": "7d44aaeb-94cf-499b-8bd3-fa043a9b283c"
      },
      "source": [
        "!pip install wget\n",
        " "
      ],
      "execution_count": 1,
      "outputs": [
        {
          "output_type": "stream",
          "text": [
            "Collecting wget\n",
            "  Downloading wget-3.2.zip (10 kB)\n",
            "Building wheels for collected packages: wget\n",
            "  Building wheel for wget (setup.py) ... \u001b[?25l\u001b[?25hdone\n",
            "  Created wheel for wget: filename=wget-3.2-py3-none-any.whl size=9672 sha256=850a4a795c3c6331fa25b1fb0ba8dec21faa56e815864959dee7febf1dc07591\n",
            "  Stored in directory: /root/.cache/pip/wheels/a1/b6/7c/0e63e34eb06634181c63adacca38b79ff8f35c37e3c13e3c02\n",
            "Successfully built wget\n",
            "Installing collected packages: wget\n",
            "Successfully installed wget-3.2\n"
          ],
          "name": "stdout"
        }
      ]
    },
    {
      "cell_type": "code",
      "metadata": {
        "colab": {
          "base_uri": "https://localhost:8080/"
        },
        "id": "7KPz-UFcJQKg",
        "outputId": "b3b91f9a-e711-4805-f50d-b3ccb24bc0eb"
      },
      "source": [
        "# download the dataset as a zip file\n",
        "import wget\n",
        "import os\n",
        "import requests\n",
        "print('Downloading dataset...')\n",
        "\n",
        "# The URL for the dataset zip file.\n",
        "url = 'https://raw.githubusercontent.com/AlirezaPNouri/BERTEmbedding/main/small_dataset_NYT_v1.csv'\n",
        "res = requests.get(url, allow_redirects=True)\n",
        "with open('small_dataset_NYT.csv','wb') as file:\n",
        "    file.write(res.content)\n",
        "print('Download is done!')"
      ],
      "execution_count": 2,
      "outputs": [
        {
          "output_type": "stream",
          "text": [
            "Downloading dataset...\n",
            "Download is done!\n"
          ],
          "name": "stdout"
        }
      ]
    },
    {
      "cell_type": "code",
      "metadata": {
        "colab": {
          "base_uri": "https://localhost:8080/",
          "height": 393
        },
        "id": "v_Wv8VjqJVpW",
        "outputId": "44f45cb4-3a32-44f9-9f3b-3dd5b7c8bdd7"
      },
      "source": [
        "import pandas as pd\n",
        "\n",
        "# Load the dataset into a pandas dataframe.\n",
        "df = pd.read_csv(\"/content/small_dataset_NYT.csv\",header=None,skiprows=1, names=['label', 'text'])\n",
        "\n",
        "# Report the number of sentences.\n",
        "print('Number of training sentences: {:,}\\n'.format(df.shape[0]))\n",
        "\n",
        "# Display 10 random rows from the data.\n",
        "df.sample(10)"
      ],
      "execution_count": 3,
      "outputs": [
        {
          "output_type": "stream",
          "text": [
            "Number of training sentences: 20\n",
            "\n"
          ],
          "name": "stdout"
        },
        {
          "output_type": "execute_result",
          "data": {
            "text/html": [
              "<div>\n",
              "<style scoped>\n",
              "    .dataframe tbody tr th:only-of-type {\n",
              "        vertical-align: middle;\n",
              "    }\n",
              "\n",
              "    .dataframe tbody tr th {\n",
              "        vertical-align: top;\n",
              "    }\n",
              "\n",
              "    .dataframe thead th {\n",
              "        text-align: right;\n",
              "    }\n",
              "</style>\n",
              "<table border=\"1\" class=\"dataframe\">\n",
              "  <thead>\n",
              "    <tr style=\"text-align: right;\">\n",
              "      <th></th>\n",
              "      <th>label</th>\n",
              "      <th>text</th>\n",
              "    </tr>\n",
              "  </thead>\n",
              "  <tbody>\n",
              "    <tr>\n",
              "      <th>9</th>\n",
              "      <td>1</td>\n",
              "      <td>Amazon s logistics infrastructure doesn t just...</td>\n",
              "    </tr>\n",
              "    <tr>\n",
              "      <th>8</th>\n",
              "      <td>0</td>\n",
              "      <td>In 2005  parts of the Amazon basin experienced...</td>\n",
              "    </tr>\n",
              "    <tr>\n",
              "      <th>10</th>\n",
              "      <td>0</td>\n",
              "      <td>The Amazon rainforest has long been recognized...</td>\n",
              "    </tr>\n",
              "    <tr>\n",
              "      <th>15</th>\n",
              "      <td>0</td>\n",
              "      <td>ON THE SOUTHERN CREST of the unscathed Amazon ...</td>\n",
              "    </tr>\n",
              "    <tr>\n",
              "      <th>17</th>\n",
              "      <td>1</td>\n",
              "      <td>But Amazon is doing everything it can to chang...</td>\n",
              "    </tr>\n",
              "    <tr>\n",
              "      <th>16</th>\n",
              "      <td>1</td>\n",
              "      <td>Amazon has a growing role in the U.S. economy ...</td>\n",
              "    </tr>\n",
              "    <tr>\n",
              "      <th>11</th>\n",
              "      <td>0</td>\n",
              "      <td>The Amazon is critical to our efforts to avoid...</td>\n",
              "    </tr>\n",
              "    <tr>\n",
              "      <th>3</th>\n",
              "      <td>1</td>\n",
              "      <td>Amazon also engages several third-party contra...</td>\n",
              "    </tr>\n",
              "    <tr>\n",
              "      <th>13</th>\n",
              "      <td>0</td>\n",
              "      <td>In the 20th century  Brazilâ€™s rapidly growin...</td>\n",
              "    </tr>\n",
              "    <tr>\n",
              "      <th>4</th>\n",
              "      <td>0</td>\n",
              "      <td>More than 56% of the dust fertilizing the Amaz...</td>\n",
              "    </tr>\n",
              "  </tbody>\n",
              "</table>\n",
              "</div>"
            ],
            "text/plain": [
              "    label                                               text\n",
              "9       1  Amazon s logistics infrastructure doesn t just...\n",
              "8       0  In 2005  parts of the Amazon basin experienced...\n",
              "10      0  The Amazon rainforest has long been recognized...\n",
              "15      0  ON THE SOUTHERN CREST of the unscathed Amazon ...\n",
              "17      1  But Amazon is doing everything it can to chang...\n",
              "16      1  Amazon has a growing role in the U.S. economy ...\n",
              "11      0  The Amazon is critical to our efforts to avoid...\n",
              "3       1  Amazon also engages several third-party contra...\n",
              "13      0  In the 20th century  Brazilâ€™s rapidly growin...\n",
              "4       0  More than 56% of the dust fertilizing the Amaz..."
            ]
          },
          "metadata": {},
          "execution_count": 3
        }
      ]
    },
    {
      "cell_type": "code",
      "metadata": {
        "colab": {
          "base_uri": "https://localhost:8080/"
        },
        "id": "CqLZzQ4LJZAa",
        "outputId": "d0988843-fb0a-4389-9ecc-1665d257373d"
      },
      "source": [
        "# Get the lists of sentences and their labels.\n",
        "import nltk\n",
        "import re\n",
        "nltk.download('punkt')\n",
        "nltk.download('stopwords')\n",
        "sentences = df.text.values\n",
        "labels = df.label.values"
      ],
      "execution_count": 22,
      "outputs": [
        {
          "output_type": "stream",
          "text": [
            "[nltk_data] Downloading package punkt to /root/nltk_data...\n",
            "[nltk_data]   Package punkt is already up-to-date!\n",
            "[nltk_data] Downloading package stopwords to /root/nltk_data...\n",
            "[nltk_data]   Unzipping corpora/stopwords.zip.\n"
          ],
          "name": "stdout"
        }
      ]
    },
    {
      "cell_type": "code",
      "metadata": {
        "id": "wXl2iXwTJiQI"
      },
      "source": [
        "def pre_processing(article_text):\n",
        "  processed_article = article_text.lower()\n",
        "  processed_article = re.sub('[^a-zA-Z]', ' ', processed_article )\n",
        "  processed_article = re.sub(r'\\s+', ' ', processed_article)\n",
        "\n",
        "  # Preparing the dataset\n",
        "  all_sentences = nltk.sent_tokenize(processed_article)\n",
        "\n",
        "  all_words = [nltk.word_tokenize(sent) for sent in all_sentences]\n",
        "\n",
        "  # Removing Stop Words\n",
        "  from nltk.corpus import stopwords\n",
        "  for i in range(len(all_words)):\n",
        "      all_words[i] = [w for w in all_words[i] if w not in stopwords.words('english')]\n",
        "  return all_words"
      ],
      "execution_count": 23,
      "outputs": []
    },
    {
      "cell_type": "code",
      "metadata": {
        "colab": {
          "base_uri": "https://localhost:8080/"
        },
        "id": "jfROmOAUJ3cK",
        "outputId": "4625e498-d9e5-443d-eb25-ff2b12d43854"
      },
      "source": [
        "from gensim.models import Word2Vec\n",
        "c = 0\n",
        "embedding = list()\n",
        "for doc in sentences:\n",
        "  word2vec = Word2Vec(pre_processing(doc), min_count=2)\n",
        "  embedding.append(word2vec)\n",
        "  vocabulary = word2vec.wv.vocab\n",
        "  print('Doc {} vocabulary is --> '.format(c), vocabulary)\n",
        "  c += 1"
      ],
      "execution_count": 27,
      "outputs": [
        {
          "output_type": "stream",
          "text": [
            "Doc 0 vocabulary is -->  {'extinction': <gensim.models.keyedvectors.Vocab object at 0x7f156892cb10>, 'climate': <gensim.models.keyedvectors.Vocab object at 0x7f156892cb90>, 'allowed': <gensim.models.keyedvectors.Vocab object at 0x7f1568968ad0>, 'tropical': <gensim.models.keyedvectors.Vocab object at 0x7f1568968a10>, 'rainforest': <gensim.models.keyedvectors.Vocab object at 0x7f1568968a90>, 'across': <gensim.models.keyedvectors.Vocab object at 0x7f1568968f10>, 'continent': <gensim.models.keyedvectors.Vocab object at 0x7f1568968c10>, 'extended': <gensim.models.keyedvectors.Vocab object at 0x7f1568968ed0>, 'far': <gensim.models.keyedvectors.Vocab object at 0x7f1568968cd0>, 'south': <gensim.models.keyedvectors.Vocab object at 0x7f1568968a50>, 'last': <gensim.models.keyedvectors.Vocab object at 0x7f1568968d50>, 'million': <gensim.models.keyedvectors.Vocab object at 0x7f15689688d0>, 'years': <gensim.models.keyedvectors.Vocab object at 0x7f1568968fd0>, 'middle': <gensim.models.keyedvectors.Vocab object at 0x7f15689c8a10>, 'glacial': <gensim.models.keyedvectors.Vocab object at 0x7f15689c8f10>, 'maximum': <gensim.models.keyedvectors.Vocab object at 0x7f15689c8c90>, 'however': <gensim.models.keyedvectors.Vocab object at 0x7f15689c8e50>, 'amazon': <gensim.models.keyedvectors.Vocab object at 0x7f15689c8910>, 'basin': <gensim.models.keyedvectors.Vocab object at 0x7f15689c89d0>, 'purus': <gensim.models.keyedvectors.Vocab object at 0x7f156b050790>, 'arch': <gensim.models.keyedvectors.Vocab object at 0x7f156872a350>, 'water': <gensim.models.keyedvectors.Vocab object at 0x7f156872a150>, 'flowed': <gensim.models.keyedvectors.Vocab object at 0x7f156872abd0>, 'toward': <gensim.models.keyedvectors.Vocab object at 0x7f156872a9d0>, 'atlantic': <gensim.models.keyedvectors.Vocab object at 0x7f156872a610>, 'vegetation': <gensim.models.keyedvectors.Vocab object at 0x7f156872ae10>, 'lgm': <gensim.models.keyedvectors.Vocab object at 0x7f156872a810>, 'reduced': <gensim.models.keyedvectors.Vocab object at 0x7f156872a450>, 'debate': <gensim.models.keyedvectors.Vocab object at 0x7f156872a910>, 'scientists': <gensim.models.keyedvectors.Vocab object at 0x7f156872a510>, 'argue': <gensim.models.keyedvectors.Vocab object at 0x7f156872aed0>, 'data': <gensim.models.keyedvectors.Vocab object at 0x7f156872ae50>}\n",
            "Doc 1 vocabulary is -->  {'lawmakers': <gensim.models.keyedvectors.Vocab object at 0x7f15689a3d10>, 'tech': <gensim.models.keyedvectors.Vocab object at 0x7f15689a3f10>, 'industry': <gensim.models.keyedvectors.Vocab object at 0x7f15689a3a10>, 'four': <gensim.models.keyedvectors.Vocab object at 0x7f15689a3790>, 'amazon': <gensim.models.keyedvectors.Vocab object at 0x7f15689a3c50>, 'facebook': <gensim.models.keyedvectors.Vocab object at 0x7f156a27e890>, 'google': <gensim.models.keyedvectors.Vocab object at 0x7f1568968910>, 'antitrust': <gensim.models.keyedvectors.Vocab object at 0x7f1568968f90>, 'making': <gensim.models.keyedvectors.Vocab object at 0x7f15689a3190>, 'case': <gensim.models.keyedvectors.Vocab object at 0x7f1568929950>, 'investigation': <gensim.models.keyedvectors.Vocab object at 0x7f15689c8e90>, 'allegedly': <gensim.models.keyedvectors.Vocab object at 0x7f15689c8b90>, 'obtained': <gensim.models.keyedvectors.Vocab object at 0x7f15689c8dd0>, 'like': <gensim.models.keyedvectors.Vocab object at 0x7f15689c8bd0>, 'cicilline': <gensim.models.keyedvectors.Vocab object at 0x7f156b050a90>, 'companies': <gensim.models.keyedvectors.Vocab object at 0x7f156892d6d0>}\n",
            "Doc 2 vocabulary is -->  {'amazon': <gensim.models.keyedvectors.Vocab object at 0x7f15688dd7d0>, 'disrupted': <gensim.models.keyedvectors.Vocab object at 0x7f1568923790>, 'costs': <gensim.models.keyedvectors.Vocab object at 0x7f156892cd50>, 'lower': <gensim.models.keyedvectors.Vocab object at 0x7f156892cd10>, 'prices': <gensim.models.keyedvectors.Vocab object at 0x7f156892ca50>, 'wage': <gensim.models.keyedvectors.Vocab object at 0x7f156872ad10>, 'inflation': <gensim.models.keyedvectors.Vocab object at 0x7f156872aa10>, 'companies': <gensim.models.keyedvectors.Vocab object at 0x7f156872aa90>, 'pass': <gensim.models.keyedvectors.Vocab object at 0x7f156892cdd0>, 'consumers': <gensim.models.keyedvectors.Vocab object at 0x7f156872a750>}\n",
            "Doc 3 vocabulary is -->  {'amazon': <gensim.models.keyedvectors.Vocab object at 0x7f156872a850>, 'people': <gensim.models.keyedvectors.Vocab object at 0x7f156872a790>, 'go': <gensim.models.keyedvectors.Vocab object at 0x7f156872a390>, 'door': <gensim.models.keyedvectors.Vocab object at 0x7f156872a650>, 'company': <gensim.models.keyedvectors.Vocab object at 0x7f156872a8d0>, 'jobs': <gensim.models.keyedvectors.Vocab object at 0x7f15676de0d0>, 'job': <gensim.models.keyedvectors.Vocab object at 0x7f15676de390>, 'costs': <gensim.models.keyedvectors.Vocab object at 0x7f15676def50>}\n",
            "Doc 4 vocabulary is -->  {'dust': <gensim.models.keyedvectors.Vocab object at 0x7f15676de1d0>, 'amazon': <gensim.models.keyedvectors.Vocab object at 0x7f15676defd0>, 'comes': <gensim.models.keyedvectors.Vocab object at 0x7f15676dedd0>, 'sahara': <gensim.models.keyedvectors.Vocab object at 0x7f15676de150>, 'phosphorus': <gensim.models.keyedvectors.Vocab object at 0x7f15676de090>, 'yearly': <gensim.models.keyedvectors.Vocab object at 0x7f15676de950>, 'amount': <gensim.models.keyedvectors.Vocab object at 0x7f15676de9d0>, 'away': <gensim.models.keyedvectors.Vocab object at 0x7f15676de190>, 'calipso': <gensim.models.keyedvectors.Vocab object at 0x7f15676def90>, 'measured': <gensim.models.keyedvectors.Vocab object at 0x7f15676de110>, 'transported': <gensim.models.keyedvectors.Vocab object at 0x7f15676de650>, 'million': <gensim.models.keyedvectors.Vocab object at 0x7f1568726450>, 'tons': <gensim.models.keyedvectors.Vocab object at 0x7f1568726f10>, 'windblown': <gensim.models.keyedvectors.Vocab object at 0x7f1568726ad0>, 'degrees': <gensim.models.keyedvectors.Vocab object at 0x7f1568726650>, 'west': <gensim.models.keyedvectors.Vocab object at 0x7f156871f050>, 'longitude': <gensim.models.keyedvectors.Vocab object at 0x7f1568942a90>, 'atlantic': <gensim.models.keyedvectors.Vocab object at 0x7f1568942cd0>, 'falls': <gensim.models.keyedvectors.Vocab object at 0x7f1568942850>, 'amounts': <gensim.models.keyedvectors.Vocab object at 0x7f15689424d0>, 'sahel': <gensim.models.keyedvectors.Vocab object at 0x7f15689420d0>, 'higher': <gensim.models.keyedvectors.Vocab object at 0x7f15689428d0>}\n",
            "Doc 5 vocabulary is -->  {'correlation': <gensim.models.keyedvectors.Vocab object at 0x7f15676de310>, 'facebook': <gensim.models.keyedvectors.Vocab object at 0x7f15676de350>, 'amazon': <gensim.models.keyedvectors.Vocab object at 0x7f15676de4d0>, 'risk': <gensim.models.keyedvectors.Vocab object at 0x7f15676de810>, 'holding': <gensim.models.keyedvectors.Vocab object at 0x7f15676de6d0>, 'inc': <gensim.models.keyedvectors.Vocab object at 0x7f1568942c50>, 'returns': <gensim.models.keyedvectors.Vocab object at 0x7f15689421d0>, 'coefficient': <gensim.models.keyedvectors.Vocab object at 0x7f1568942ed0>, 'total': <gensim.models.keyedvectors.Vocab object at 0x7f15676de450>, 'investment': <gensim.models.keyedvectors.Vocab object at 0x7f15676de7d0>, 'generate': <gensim.models.keyedvectors.Vocab object at 0x7f1568942610>, 'times': <gensim.models.keyedvectors.Vocab object at 0x7f1568942ad0>, 'return': <gensim.models.keyedvectors.Vocab object at 0x7f1568942750>, 'per': <gensim.models.keyedvectors.Vocab object at 0x7f1568942790>, 'unit': <gensim.models.keyedvectors.Vocab object at 0x7f1568942dd0>, 'would': <gensim.models.keyedvectors.Vocab object at 0x7f1568942e10>}\n",
            "Doc 6 vocabulary is -->  {'evidence': <gensim.models.keyedvectors.Vocab object at 0x7f1568942590>, 'inhabitants': <gensim.models.keyedvectors.Vocab object at 0x7f1568942c10>, 'first': <gensim.models.keyedvectors.Vocab object at 0x7f1568942e50>, 'amazon': <gensim.models.keyedvectors.Vocab object at 0x7f1568942350>, 'region': <gensim.models.keyedvectors.Vocab object at 0x7f156893b5d0>, 'settlements': <gensim.models.keyedvectors.Vocab object at 0x7f156893b2d0>, 'along': <gensim.models.keyedvectors.Vocab object at 0x7f156893bf50>, 'forest': <gensim.models.keyedvectors.Vocab object at 0x7f156893bf10>, 'ad': <gensim.models.keyedvectors.Vocab object at 0x7f1568942950>, 'thought': <gensim.models.keyedvectors.Vocab object at 0x7f156893b690>, 'rainforest': <gensim.models.keyedvectors.Vocab object at 0x7f156893b050>, 'populated': <gensim.models.keyedvectors.Vocab object at 0x7f156893bb90>, 'population': <gensim.models.keyedvectors.Vocab object at 0x7f156893b910>, 'agriculture': <gensim.models.keyedvectors.Vocab object at 0x7f156893b710>, 'million': <gensim.models.keyedvectors.Vocab object at 0x7f156893b890>, 'early': <gensim.models.keyedvectors.Vocab object at 0x7f156893b490>, 'orellana': <gensim.models.keyedvectors.Vocab object at 0x7f156893b4d0>, 'civilization': <gensim.models.keyedvectors.Vocab object at 0x7f156893b210>}\n",
            "Doc 7 vocabulary is -->  {'rise': <gensim.models.keyedvectors.Vocab object at 0x7f1568714090>, 'year': <gensim.models.keyedvectors.Vocab object at 0x7f15687147d0>, 'amazon': <gensim.models.keyedvectors.Vocab object at 0x7f1568714e90>, 'stock': <gensim.models.keyedvectors.Vocab object at 0x7f1568714610>, 'far': <gensim.models.keyedvectors.Vocab object at 0x7f1568714450>, 'gain': <gensim.models.keyedvectors.Vocab object at 0x7f1568714710>, 'last': <gensim.models.keyedvectors.Vocab object at 0x7f1568714250>, 'googl': <gensim.models.keyedvectors.Vocab object at 0x7f1568714ed0>}\n",
            "Doc 8 vocabulary is -->  {'amazon': <gensim.models.keyedvectors.Vocab object at 0x7f1568968b90>, 'experienced': <gensim.models.keyedvectors.Vocab object at 0x7f1568968e50>, 'worst': <gensim.models.keyedvectors.Vocab object at 0x7f156b146e10>, 'drought': <gensim.models.keyedvectors.Vocab object at 0x7f156893d450>, 'years': <gensim.models.keyedvectors.Vocab object at 0x7f1569ae8710>, 'year': <gensim.models.keyedvectors.Vocab object at 0x7f1568726690>, 'article': <gensim.models.keyedvectors.Vocab object at 0x7f1568726f50>, 'research': <gensim.models.keyedvectors.Vocab object at 0x7f1568726e10>, 'forest': <gensim.models.keyedvectors.Vocab object at 0x7f1569ae8cd0>, 'three': <gensim.models.keyedvectors.Vocab object at 0x7f1568928150>, 'brazilian': <gensim.models.keyedvectors.Vocab object at 0x7f1568726e50>, 'national': <gensim.models.keyedvectors.Vocab object at 0x7f1568714390>, 'institute': <gensim.models.keyedvectors.Vocab object at 0x7f1568714d10>, 'deforestation': <gensim.models.keyedvectors.Vocab object at 0x7f15688ea4d0>, 'climate': <gensim.models.keyedvectors.Vocab object at 0x7f15688ead10>, 'rainforest': <gensim.models.keyedvectors.Vocab object at 0x7f159fef52d0>, 'start': <gensim.models.keyedvectors.Vocab object at 0x7f1565a99850>, 'turned': <gensim.models.keyedvectors.Vocab object at 0x7f15651fe150>, 'savanna': <gensim.models.keyedvectors.Vocab object at 0x7f15651ebd10>, 'world': <gensim.models.keyedvectors.Vocab object at 0x7f156871cfd0>, 'published': <gensim.models.keyedvectors.Vocab object at 0x7f156871c410>, 'nature': <gensim.models.keyedvectors.Vocab object at 0x7f156871c4d0>, 'october': <gensim.models.keyedvectors.Vocab object at 0x7f156871c710>, 'according': <gensim.models.keyedvectors.Vocab object at 0x7f156871cd50>, 'trees': <gensim.models.keyedvectors.Vocab object at 0x7f15651aa210>, 'fires': <gensim.models.keyedvectors.Vocab object at 0x7f15651aa5d0>, 'severe': <gensim.models.keyedvectors.Vocab object at 0x7f15688fa650>, 'km': <gensim.models.keyedvectors.Vocab object at 0x7f15688fa690>, 'sq': <gensim.models.keyedvectors.Vocab object at 0x7f15688fa350>, 'mi': <gensim.models.keyedvectors.Vocab object at 0x7f15688fa2d0>, 'compared': <gensim.models.keyedvectors.Vocab object at 0x7f15688fac50>, 'gigatons': <gensim.models.keyedvectors.Vocab object at 0x7f15688fa110>, 'released': <gensim.models.keyedvectors.Vocab object at 0x7f15688fa050>, 'brazil': <gensim.models.keyedvectors.Vocab object at 0x7f15688faad0>, 'first': <gensim.models.keyedvectors.Vocab object at 0x7f15688fa9d0>, 'month': <gensim.models.keyedvectors.Vocab object at 0x7f15688fa0d0>, 'period': <gensim.models.keyedvectors.Vocab object at 0x7f15688fae50>, 'per': <gensim.models.keyedvectors.Vocab object at 0x7f15688fa250>, 'cent': <gensim.models.keyedvectors.Vocab object at 0x7f15688fae10>, 'rise': <gensim.models.keyedvectors.Vocab object at 0x7f15688fa950>, 'government': <gensim.models.keyedvectors.Vocab object at 0x7f15688fae90>, 'hotspots': <gensim.models.keyedvectors.Vocab object at 0x7f15688fa190>}\n",
            "Doc 9 vocabulary is -->  {'amazon': <gensim.models.keyedvectors.Vocab object at 0x7f1565a99790>, 'people': <gensim.models.keyedvectors.Vocab object at 0x7f156871c650>, 'small': <gensim.models.keyedvectors.Vocab object at 0x7f156871c090>, 'businesses': <gensim.models.keyedvectors.Vocab object at 0x7f156893bcd0>, 'million': <gensim.models.keyedvectors.Vocab object at 0x7f15688fa490>, 'company': <gensim.models.keyedvectors.Vocab object at 0x7f15688fa610>, 'income': <gensim.models.keyedvectors.Vocab object at 0x7f15688fa550>, 'tax': <gensim.models.keyedvectors.Vocab object at 0x7f15688faf90>, 'rate': <gensim.models.keyedvectors.Vocab object at 0x7f15688fa910>, 'versus': <gensim.models.keyedvectors.Vocab object at 0x7f15688fa1d0>, 'paid': <gensim.models.keyedvectors.Vocab object at 0x7f15688fad10>, 'billion': <gensim.models.keyedvectors.Vocab object at 0x7f15688fa710>}\n",
            "Doc 10 vocabulary is -->  {'amazon': <gensim.models.keyedvectors.Vocab object at 0x7f15688facd0>, 'rainforest': <gensim.models.keyedvectors.Vocab object at 0x7f15688faa10>, 'ecological': <gensim.models.keyedvectors.Vocab object at 0x7f15688faa90>, 'also': <gensim.models.keyedvectors.Vocab object at 0x7f15688fa8d0>, 'rest': <gensim.models.keyedvectors.Vocab object at 0x7f15688fa450>, 'world': <gensim.models.keyedvectors.Vocab object at 0x7f15689a3810>, 'global': <gensim.models.keyedvectors.Vocab object at 0x7f15689a35d0>, 'continues': <gensim.models.keyedvectors.Vocab object at 0x7f15689a3f50>, 'years': <gensim.models.keyedvectors.Vocab object at 0x7f15688fa7d0>, 'last': <gensim.models.keyedvectors.Vocab object at 0x7f156b00c190>, 'rainforests': <gensim.models.keyedvectors.Vocab object at 0x7f15689a3a90>, 'carbon': <gensim.models.keyedvectors.Vocab object at 0x7f15689a3e50>, 'dioxide': <gensim.models.keyedvectors.Vocab object at 0x7f15689a3550>, 'co': <gensim.models.keyedvectors.Vocab object at 0x7f15689a3d90>, 'gas': <gensim.models.keyedvectors.Vocab object at 0x7f15689a3390>, 'natural': <gensim.models.keyedvectors.Vocab object at 0x7f15689a36d0>, 'air': <gensim.models.keyedvectors.Vocab object at 0x7f15689a3e10>, 'climate': <gensim.models.keyedvectors.Vocab object at 0x7f1568724d10>, 'change': <gensim.models.keyedvectors.Vocab object at 0x7f1568724150>, 'oxygen': <gensim.models.keyedvectors.Vocab object at 0x7f15687240d0>, 'even': <gensim.models.keyedvectors.Vocab object at 0x7f1568724690>}\n",
            "Doc 11 vocabulary is -->  {'amazon': <gensim.models.keyedvectors.Vocab object at 0x7f15688fa090>, 'climate': <gensim.models.keyedvectors.Vocab object at 0x7f15676d0a10>, 'agricultural': <gensim.models.keyedvectors.Vocab object at 0x7f15676d0950>, 'forest': <gensim.models.keyedvectors.Vocab object at 0x7f15688df290>, 'global': <gensim.models.keyedvectors.Vocab object at 0x7f156892c450>, 'deforestation': <gensim.models.keyedvectors.Vocab object at 0x7f15689400d0>, 'dry': <gensim.models.keyedvectors.Vocab object at 0x7f1568940250>, 'longer': <gensim.models.keyedvectors.Vocab object at 0x7f15689405d0>, 'ecosystems': <gensim.models.keyedvectors.Vocab object at 0x7f15688df250>, 'loss': <gensim.models.keyedvectors.Vocab object at 0x7f156892cd90>, 'including': <gensim.models.keyedvectors.Vocab object at 0x7f15689408d0>, 'wwf': <gensim.models.keyedvectors.Vocab object at 0x7f156aff7410>}\n",
            "Doc 12 vocabulary is -->  {'amazon': <gensim.models.keyedvectors.Vocab object at 0x7f156893de10>, 'trillion': <gensim.models.keyedvectors.Vocab object at 0x7f1568714110>, 'dollar': <gensim.models.keyedvectors.Vocab object at 0x7f156871fa50>, 'company': <gensim.models.keyedvectors.Vocab object at 0x7f15689ac150>, 'market': <gensim.models.keyedvectors.Vocab object at 0x7f1568724990>, 'cap': <gensim.models.keyedvectors.Vocab object at 0x7f1568724bd0>, 'july': <gensim.models.keyedvectors.Vocab object at 0x7f1568724cd0>, 'world': <gensim.models.keyedvectors.Vocab object at 0x7f1568724ad0>, 'stock': <gensim.models.keyedvectors.Vocab object at 0x7f15689ac790>, 'value': <gensim.models.keyedvectors.Vocab object at 0x7f1568724e90>}\n",
            "Doc 13 vocabulary is -->  {'brazil': <gensim.models.keyedvectors.Vocab object at 0x7f1568724790>, 'amazon': <gensim.models.keyedvectors.Vocab object at 0x7f15687241d0>, 'rainforest': <gensim.models.keyedvectors.Vocab object at 0x7f1568724390>, 'forest': <gensim.models.keyedvectors.Vocab object at 0x7f1568724590>, 'percent': <gensim.models.keyedvectors.Vocab object at 0x7f1568724dd0>, 'within': <gensim.models.keyedvectors.Vocab object at 0x7f15676c1190>, 'borders': <gensim.models.keyedvectors.Vocab object at 0x7f15676c17d0>, 'square': <gensim.models.keyedvectors.Vocab object at 0x7f15676c1890>, 'miles': <gensim.models.keyedvectors.Vocab object at 0x7f1568724d90>, 'km': <gensim.models.keyedvectors.Vocab object at 0x7f15676c15d0>, 'covered': <gensim.models.keyedvectors.Vocab object at 0x7f15676c1550>, 'forests': <gensim.models.keyedvectors.Vocab object at 0x7f156872aad0>, 'cover': <gensim.models.keyedvectors.Vocab object at 0x7f156872a490>, 'declined': <gensim.models.keyedvectors.Vocab object at 0x7f156872a290>, 'brazilian': <gensim.models.keyedvectors.Vocab object at 0x7f156872ae90>, 'government': <gensim.models.keyedvectors.Vocab object at 0x7f1568903910>, 'roughly': <gensim.models.keyedvectors.Vocab object at 0x7f15689037d0>, 'per': <gensim.models.keyedvectors.Vocab object at 0x7f1568903c50>, 'year': <gensim.models.keyedvectors.Vocab object at 0x7f15689036d0>, 'however': <gensim.models.keyedvectors.Vocab object at 0x7f15689035d0>, 'half': <gensim.models.keyedvectors.Vocab object at 0x7f1568903350>, 'ecuador': <gensim.models.keyedvectors.Vocab object at 0x7f1568903950>, 'plan': <gensim.models.keyedvectors.Vocab object at 0x7f1568903690>, 'yasun': <gensim.models.keyedvectors.Vocab object at 0x7f1568903f50>, 'park': <gensim.models.keyedvectors.Vocab object at 0x7f15689038d0>, 'oil': <gensim.models.keyedvectors.Vocab object at 0x7f1568903ed0>, 'deposits': <gensim.models.keyedvectors.Vocab object at 0x7f15689032d0>}\n",
            "Doc 14 vocabulary is -->  {'amazon': <gensim.models.keyedvectors.Vocab object at 0x7f1568724450>, 'rainforest': <gensim.models.keyedvectors.Vocab object at 0x7f1568903790>, 'basin': <gensim.models.keyedvectors.Vocab object at 0x7f1568903050>, 'river': <gensim.models.keyedvectors.Vocab object at 0x7f1568903710>, 'south': <gensim.models.keyedvectors.Vocab object at 0x7f1568903a50>, 'america': <gensim.models.keyedvectors.Vocab object at 0x7f1568903650>, 'area': <gensim.models.keyedvectors.Vocab object at 0x7f1568903e50>, 'square': <gensim.models.keyedvectors.Vocab object at 0x7f1568903150>, 'miles': <gensim.models.keyedvectors.Vocab object at 0x7f1568903dd0>, 'km': <gensim.models.keyedvectors.Vocab object at 0x7f1568903250>, 'brazil': <gensim.models.keyedvectors.Vocab object at 0x7f15676d5d90>, 'andes': <gensim.models.keyedvectors.Vocab object at 0x7f15676d5210>, 'west': <gensim.models.keyedvectors.Vocab object at 0x7f15676d5290>, 'atlantic': <gensim.models.keyedvectors.Vocab object at 0x7f15676d5ad0>, 'ocean': <gensim.models.keyedvectors.Vocab object at 0x7f15676d5350>, 'east': <gensim.models.keyedvectors.Vocab object at 0x7f15676d5190>, 'treatment': <gensim.models.keyedvectors.Vocab object at 0x7f15676d57d0>, 'world': <gensim.models.keyedvectors.Vocab object at 0x7f15676d5910>, 'forest': <gensim.models.keyedvectors.Vocab object at 0x7f15676d5750>, 'tree': <gensim.models.keyedvectors.Vocab object at 0x7f15676d54d0>, 'wide': <gensim.models.keyedvectors.Vocab object at 0x7f15676d5d10>, 'high': <gensim.models.keyedvectors.Vocab object at 0x7f15676d5150>, 'several': <gensim.models.keyedvectors.Vocab object at 0x7f15676d51d0>, 'species': <gensim.models.keyedvectors.Vocab object at 0x7f15676d5a90>, 'many': <gensim.models.keyedvectors.Vocab object at 0x7f15676d5550>, 'types': <gensim.models.keyedvectors.Vocab object at 0x7f1568942e90>}\n",
            "Doc 15 vocabulary is -->  {'southern': <gensim.models.keyedvectors.Vocab object at 0x7f1568724510>, 'amazon': <gensim.models.keyedvectors.Vocab object at 0x7f1568942050>, 'rain': <gensim.models.keyedvectors.Vocab object at 0x7f1568942910>, 'forest': <gensim.models.keyedvectors.Vocab object at 0x7f156b05e510>, 'bertola': <gensim.models.keyedvectors.Vocab object at 0x7f1564c7e750>, 'land': <gensim.models.keyedvectors.Vocab object at 0x7f1564c7ef10>, 'frontier': <gensim.models.keyedvectors.Vocab object at 0x7f1564c7ec10>, 'changing': <gensim.models.keyedvectors.Vocab object at 0x7f1564c7e5d0>, 'trees': <gensim.models.keyedvectors.Vocab object at 0x7f1564c7ed50>, 'never': <gensim.models.keyedvectors.Vocab object at 0x7f1564c7e810>, 'human': <gensim.models.keyedvectors.Vocab object at 0x7f1564c7ee50>, 'decades': <gensim.models.keyedvectors.Vocab object at 0x7f1564c7ee90>, 'ago': <gensim.models.keyedvectors.Vocab object at 0x7f15676deb50>, 'brazil': <gensim.models.keyedvectors.Vocab object at 0x7f15676de050>, 'jungle': <gensim.models.keyedvectors.Vocab object at 0x7f15676dee50>, 'deforestation': <gensim.models.keyedvectors.Vocab object at 0x7f15676de990>, 'much': <gensim.models.keyedvectors.Vocab object at 0x7f15687265d0>, 'activity': <gensim.models.keyedvectors.Vocab object at 0x7f1568726d50>, 'scientists': <gensim.models.keyedvectors.Vocab object at 0x7f15676cc690>, 'warn': <gensim.models.keyedvectors.Vocab object at 0x7f15676cc550>, 'climate': <gensim.models.keyedvectors.Vocab object at 0x7f15676cc310>, 'tipping': <gensim.models.keyedvectors.Vocab object at 0x7f15676cc450>, 'point': <gensim.models.keyedvectors.Vocab object at 0x7f15676cc390>, 'water': <gensim.models.keyedvectors.Vocab object at 0x7f15676ccf50>, 'become': <gensim.models.keyedvectors.Vocab object at 0x7f15676cc350>, 'global': <gensim.models.keyedvectors.Vocab object at 0x7f15676cc810>}\n",
            "Doc 16 vocabulary is -->  {'amazon': <gensim.models.keyedvectors.Vocab object at 0x7f156a292c90>, 'growing': <gensim.models.keyedvectors.Vocab object at 0x7f156519f090>, 'economy': <gensim.models.keyedvectors.Vocab object at 0x7f15676ae410>, 'according': <gensim.models.keyedvectors.Vocab object at 0x7f156892c210>, 'report': <gensim.models.keyedvectors.Vocab object at 0x7f15688faed0>, 'behind': <gensim.models.keyedvectors.Vocab object at 0x7f15676cc890>, 'company': <gensim.models.keyedvectors.Vocab object at 0x7f15676ccb10>, 'millions': <gensim.models.keyedvectors.Vocab object at 0x7f15676ccdd0>, 'devices': <gensim.models.keyedvectors.Vocab object at 0x7f156871c1d0>, 'sold': <gensim.models.keyedvectors.Vocab object at 0x7f15688fa310>, 'although': <gensim.models.keyedvectors.Vocab object at 0x7f15676ccd50>, 'echo': <gensim.models.keyedvectors.Vocab object at 0x7f15676ccc90>, 'intelligence': <gensim.models.keyedvectors.Vocab object at 0x7f15676ccf90>, 'alexa': <gensim.models.keyedvectors.Vocab object at 0x7f15676ccad0>}\n",
            "Doc 17 vocabulary is -->  {'amazon': <gensim.models.keyedvectors.Vocab object at 0x7f15676cb950>, 'everything': <gensim.models.keyedvectors.Vocab object at 0x7f15676cb110>, 'echo': <gensim.models.keyedvectors.Vocab object at 0x7f15676cbfd0>, 'prime': <gensim.models.keyedvectors.Vocab object at 0x7f15676cb390>, 'better': <gensim.models.keyedvectors.Vocab object at 0x7f15676cbed0>, 'likely': <gensim.models.keyedvectors.Vocab object at 0x7f15676cb090>, 'company': <gensim.models.keyedvectors.Vocab object at 0x7f15676cbf90>, 'much': <gensim.models.keyedvectors.Vocab object at 0x7f15676cb8d0>, 'product': <gensim.models.keyedvectors.Vocab object at 0x7f15676cb2d0>, 'even': <gensim.models.keyedvectors.Vocab object at 0x7f15676cbd50>}\n",
            "Doc 18 vocabulary is -->  {'amazon': <gensim.models.keyedvectors.Vocab object at 0x7f15676cb050>, 'million': <gensim.models.keyedvectors.Vocab object at 0x7f15676cba50>, 'pay': <gensim.models.keyedvectors.Vocab object at 0x7f15676cb910>, 'prime': <gensim.models.keyedvectors.Vocab object at 0x7f15676cbc90>, 'memberships': <gensim.models.keyedvectors.Vocab object at 0x7f1564c362d0>, 'almost': <gensim.models.keyedvectors.Vocab object at 0x7f1564c364d0>, 'billion': <gensim.models.keyedvectors.Vocab object at 0x7f1564c365d0>, 'year': <gensim.models.keyedvectors.Vocab object at 0x7f1564c369d0>, 'households': <gensim.models.keyedvectors.Vocab object at 0x7f1564c36950>, 'spend': <gensim.models.keyedvectors.Vocab object at 0x7f1564c36510>, 'orders': <gensim.models.keyedvectors.Vocab object at 0x7f1564c36d50>, 'pandemic': <gensim.models.keyedvectors.Vocab object at 0x7f1564c367d0>, 'run': <gensim.models.keyedvectors.Vocab object at 0x7f1564c36f90>, 'percent': <gensim.models.keyedvectors.Vocab object at 0x7f1564c36410>, 'computing': <gensim.models.keyedvectors.Vocab object at 0x7f1564c368d0>, 'business': <gensim.models.keyedvectors.Vocab object at 0x7f1564c36b90>, 'sales': <gensim.models.keyedvectors.Vocab object at 0x7f1564c36750>, 'strong': <gensim.models.keyedvectors.Vocab object at 0x7f1564c36b10>, 'chief': <gensim.models.keyedvectors.Vocab object at 0x7f1564c36a10>, 'olsavsky': <gensim.models.keyedvectors.Vocab object at 0x7f1564c36890>, 'said': <gensim.models.keyedvectors.Vocab object at 0x7f1564c36090>, 'growth': <gensim.models.keyedvectors.Vocab object at 0x7f1564c36390>, 'capital': <gensim.models.keyedvectors.Vocab object at 0x7f1564c36dd0>, 'last': <gensim.models.keyedvectors.Vocab object at 0x7f1564c361d0>, 'mr': <gensim.models.keyedvectors.Vocab object at 0x7f1564c36a50>, 'bezos': <gensim.models.keyedvectors.Vocab object at 0x7f1564c36690>, 'executive': <gensim.models.keyedvectors.Vocab object at 0x7f1564c360d0>, 'workers': <gensim.models.keyedvectors.Vocab object at 0x7f15689039d0>}\n",
            "Doc 19 vocabulary is -->  {'amazon': <gensim.models.keyedvectors.Vocab object at 0x7f15676cbb10>, 'rainforest': <gensim.models.keyedvectors.Vocab object at 0x7f15676cbbd0>, 'tropical': <gensim.models.keyedvectors.Vocab object at 0x7f1568942890>, 'basin': <gensim.models.keyedvectors.Vocab object at 0x7f15676d0890>, 'km': <gensim.models.keyedvectors.Vocab object at 0x7f1568903390>, 'sq': <gensim.models.keyedvectors.Vocab object at 0x7f15688f5450>, 'mi': <gensim.models.keyedvectors.Vocab object at 0x7f15688f5b50>, 'nations': <gensim.models.keyedvectors.Vocab object at 0x7f15688f5110>, 'formally': <gensim.models.keyedvectors.Vocab object at 0x7f1568903d90>, 'acknowledged': <gensim.models.keyedvectors.Vocab object at 0x7f1568903fd0>, 'indigenous': <gensim.models.keyedvectors.Vocab object at 0x7f15688f5810>, 'territories': <gensim.models.keyedvectors.Vocab object at 0x7f15688f5250>, 'guiana': <gensim.models.keyedvectors.Vocab object at 0x7f15688f5510>, 'name': <gensim.models.keyedvectors.Vocab object at 0x7f15688f5350>, 'remaining': <gensim.models.keyedvectors.Vocab object at 0x7f15688f5ad0>, 'different': <gensim.models.keyedvectors.Vocab object at 0x7f15688f5850>, 'groups': <gensim.models.keyedvectors.Vocab object at 0x7f15688f5a10>}\n"
          ],
          "name": "stdout"
        }
      ]
    },
    {
      "cell_type": "code",
      "metadata": {
        "colab": {
          "base_uri": "https://localhost:8080/"
        },
        "id": "MtyZm_0HLiT4",
        "outputId": "f6c51411-999d-492e-ed59-5c11c6ffd172"
      },
      "source": [
        "# similar word to amazon\n",
        "\n",
        "c = 0\n",
        "for em in embedding:\n",
        "  print('Doc {} is -->'.format(c), sentences[c])\n",
        "  print(em.wv.most_similar('amazon'))\n",
        "  c += 1\n",
        "  "
      ],
      "execution_count": 30,
      "outputs": [
        {
          "output_type": "stream",
          "text": [
            "Doc 0 is --> Following the Cretaceousâ€“Paleogene extinction event  the extinction of the dinosaurs and the wetter climate may have allowed the tropical rainforest to spread out across the continent. From 66 to 34 Mya  the rainforest extended as far south as 45Â°. Climate fluctuations during the last 34 million years have allowed savanna regions to expand into the tropics. During the Oligocene  for example  the rainforest spanned a relatively narrow band. It expanded again during the Middle Miocene  then retracted to a mostly inland formation at the last glacial maximum. However  the rainforest still managed to thrive during these glacial periods  allowing for the survival and evolution of a broad diversity of species. Aerial view of the Amazon rainforest During the mid-Eocene  it is believed that the drainage basin of the Amazon was split along the middle of the continent by the Purus Arch. Water on the eastern side flowed toward the Atlantic  while to the west water flowed toward the Pacific across the Amazonas Basin. As the Andes Mountains rose  however  a large basin was created that enclosed a lake  now known as the SolimÃµes Basin. Within the last 5â€“10 million years  this accumulating water broke through the Purus Arch  joining the easterly flow toward the Atlantic. There is evidence that there have been significant changes in the Amazon rainforest vegetation over the last 21 000 years through the last glacial maximum (LGM) and subsequent deglaciation. Analyses of sediment deposits from Amazon basin paleolakes and the Amazon Fan indicate that rainfall in the basin during the LGM was lower than for the present  and this was almost certainly associated with reduced moist tropical vegetation cover in the basin.[16] There is a debate  however  over how extensive this reduction was. Some scientists argue that the rainforest was reduced to small  isolated refugia separated by open forest and grassland [17] other scientists argue that the rainforest remained largely intact but extended less far to the north  south  and east than is seen today. This debate has proved difficult to resolve because the practical limitations of working in the rainforest mean that data sampling is biased away from the center of the Amazon basin  and both explanations are reasonably well supported by the available data.\n",
            "[('million', 0.2010016143321991), ('lgm', 0.1634311079978943), ('however', 0.15730296075344086), ('basin', 0.11512573063373566), ('middle', 0.11281000822782516), ('debate', 0.07561904191970825), ('last', 0.06773313134908676), ('extended', 0.05866478011012077), ('data', 0.05085410177707672), ('arch', 0.04407946392893791)]\n",
            "Doc 1 is --> On Wednesday, lawmakers squared off with the chief executives of the tech industryâ€™s four most powerful players: Amazon, Apple, Facebook, and Google. Even though each company is under antitrust scrutiny for different reasons, the committee used this weekâ€™s hearing to point out similarities between all four, making the case for future regulatory reform. Since last June, lawmakers have been engaged in a sweeping antitrust investigation into the tech sector, honing in on how some of the most notable names in the industry have grown too big by allegedly stifling competition. Lawmakers have heard hundreds of hours of testimony and obtained over 1 million documents throughout their investigation, a process that made it difficult for CEOs like Facebookâ€™s Mark Zuckerberg and Amazonâ€™s Jeff Bezos to evade uncomfortable lines of questioning. Google caught fire from Cicilline for keeping a watchful eye on competitors in search. Cicilline cited emails obtained through the investigation between Google employees concerned with how competing companies were growing more dominant. For Yelp specifically, Google allegedly threatened to delist its reviews if the giant couldnâ€™t feed them into its own products. This surveillance technique extends into the other three companies as well. For example, Facebook has allegedly kept tabs on other rising tech companies, making efforts to copy them or eventually purchasing them, like in the case of Instagram.\n",
            "[('allegedly', 0.08944056183099747), ('lawmakers', 0.06793970614671707), ('facebook', 0.06353640556335449), ('antitrust', -0.026833444833755493), ('investigation', -0.033910296857357025), ('companies', -0.04881744459271431), ('obtained', -0.052654072642326355), ('making', -0.055779218673706055), ('case', -0.0799008458852768), ('cicilline', -0.08702508360147476)]\n",
            "Doc 2 is --> Amazon has disrupted traditional retail and accelerated the demise of struggling players. Without storefronts  the companyâ€™s overhead costs are significantly lower than other retailers. That gives Amazon the edge to undercut rivals on prices and operate on a thinner profit margin. Some economy watchers are nervous about Amazonâ€™s deflationary impact. Ideally  low unemployment is accompanied by wage growth  which in turn fuels inflation as companies pass on the costs to consumers. That is the logic of the Phillips curve  but Amazon has disrupted it as well. Greater competition and lower prices can limit the ability of companies to pass on any wage increases to consumers. Those worries were echoed in the wake of the Whole Foods acquisition in 2017.4 Chicago Federal Reserve President Charles Evans noted that mega-mergers can put downward pressure on inflation.\n",
            "[('wage', 0.14601367712020874), ('pass', 0.13812460005283356), ('inflation', 0.02969144843518734), ('costs', 0.003808889538049698), ('companies', -0.05020465329289436), ('disrupted', -0.058090634644031525), ('prices', -0.06614148616790771), ('consumers', -0.12573900818824768), ('lower', -0.12800632417201996)]\n",
            "Doc 3 is --> Amazon also engages several third-party contractors and companies for tasks like deliveries. Those people go door-to-door  dropping off Amazon packages. However  they are not employees of the company. Does that matter yes and no. In a way  these are jobs for people. Therefore  some credit could go to Amazon for job creation. On the other hand  hiring contractual workers helps the company keep its costs in check. Some have criticized the company for harsh working conditions. Another angle of the jobs conversation is how many jobs Amazon is eliminating. Consider how much the company is hurting other retailers  forcing them to shutter stores and cut back on costs. Job gains at Amazon may not mean anything for overall employment.\n",
            "[('door', 0.10995316505432129), ('go', 0.08738866448402405), ('costs', 0.003912255167961121), ('people', -0.02548190951347351), ('jobs', -0.047330521047115326), ('job', -0.058924660086631775), ('company', -0.10865454375743866)]\n",
            "Doc 4 is --> More than 56% of the dust fertilizing the Amazon rainforest comes from the BodÃ©lÃ© depression in Northern Chad in the Sahara desert. The dust contains phosphorus  important for plant growth. The yearly Sahara dust replaces the equivalent amount of phosphorus washed away yearly in Amazon soil from rains and floods. NASA s CALIPSO satellite has measured the amount of dust transported by wind from the Sahara to the Amazon: an average of 182 million tons of dust are windblown out of the Sahara each year  at 15 degrees west longitude  across 2 600 km (1 600 mi) over the Atlantic Ocean (some dust falls into the Atlantic)  then at 35 degrees West longitude at the eastern coast of South America  27.7 million tons (15%) of dust fall over the Amazon basin (22 million tons of it consisting of phosphorus)  132 million tons of dust remain in the air  43 million tons of dust are windblown and falls on the Caribbean Sea  past 75 degrees west longitude. CALIPSO uses a laser range finder to scan the Earth s atmosphere for the vertical distribution of dust and other aerosols. CALIPSO regularly tracks the Sahara-Amazon dust plume. CALIPSO has measured variations in the dust amounts transported â€“ an 86 percent drop between the highest amount of dust transported in 2007 and the lowest in 2011. A possibility causing the variation is the Sahel  a strip of semi-arid land on the southern border of the Sahara. When rain amounts in the Sahel are higher  the volume of dust is lower. The higher rainfall could make more vegetation grow in the Sahel  leaving less sand exposed to winds to blow away. Amazon phosphorus also comes as smoke due to biomass burning in Africa\n",
            "[('million', 0.20222629606723785), ('windblown', 0.17571814358234406), ('sahara', 0.1688823699951172), ('degrees', 0.15129363536834717), ('measured', 0.11080656945705414), ('amount', 0.10432539880275726), ('sahel', 0.0481768362224102), ('amounts', 0.047588083893060684), ('atlantic', 0.012819105759263039), ('west', 0.003254000097513199)]\n",
            "Doc 5 is --> The 3 months correlation between Facebook and Amazon is 0.39. Overlapping area represents the amount of risk that can be diversified away by holding Facebook and Amazon Inc in the same portfolio assuming nothing else is changed. The correlation between historical prices or returns on Amazon Inc and Facebook is a relative statistical measure of the degree to which these equity instruments tend to move together. The correlation coefficient measures the extent to which returns on Facebook are associated (or correlated) with Amazon. Values of the correlation coefficient range from -1 to +1, where. The correlation of zero (0) is possible when the price movement of Amazon Inc has no effect on the direction of Facebook i.e., Facebook and Amazon go up and down completely randomly. Allowing for the 90-day total investment horizon Facebook is expected to generate 1.21 times more return on investment than Amazon. However, Facebook is 1.21 times more volatile than Amazon Inc. It trades about 0.07 of its potential returns per unit of risk. Amazon Inc is currently generating about 0.07 per unit of risk. If you would invest  18,239  in Facebook on May 25, 2021 and sell it today you would earn a total of  18,148  from holding Facebook or generate 99.5% return on investment over 90 days.\n",
            "[('would', 0.3569371700286865), ('return', 0.14563459157943726), ('inc', 0.13568556308746338), ('generate', 0.08044234663248062), ('holding', 0.07848374545574188), ('facebook', 0.0660988986492157), ('total', 0.011576734483242035), ('correlation', -0.007902272045612335), ('unit', -0.02722896635532379), ('risk', -0.06477926671504974)]\n",
            "Doc 6 is --> Based on archaeological evidence from an excavation at Caverna da Pedra Pintada  human inhabitants first settled in the Amazon region at least 11 200 years ago. Subsequent development led to late-prehistoric settlements along the periphery of the forest by AD 1250  which induced alterations in the forest cover. For a long time  it was thought that the Amazon rainforest was never more than sparsely populated  as it was impossible to sustain a large population through agriculture given the poor soil. Archeologist Betty Meggers was a prominent proponent of this idea  as described in her book Amazonia: Man and Culture in a Counterfeit Paradise. She claimed that a population density of 0.2 inhabitants per square kilometre (0.52/sq mi) is the maximum that can be sustained in the rainforest through hunting  with agriculture needed to host a larger population. However  recent anthropological findings have suggested that the region was actually densely populated. Some 5 million people may have lived in the Amazon region in AD 1500  divided between dense coastal settlements  such as that at MarajÃ³  and inland dwellers.[28] By 1900  the population had fallen to 1 million and by the early 1980s it was less than 200 000. The first European to travel the length of the Amazon River was Francisco de Orellana in 1542.[29] The BBC s Unnatural Histories presents evidence that Orellana  rather than exaggerating his claims as previously thought  was correct in his observations that a complex civilization was flourishing along the Amazon in the 1540s. It is believed that civilization was later devastated by the spread of diseases from Europe  such as smallpox.[30] This civilization was investigated by the British explorer Percy Fawcett in the early twentieth century. The results of his expeditions were inconclusive and he disappeared mysteriously on his last trip. His name for this lost civilization was the City of Z.\n",
            "[('thought', 0.2734466791152954), ('million', 0.20112015306949615), ('orellana', 0.19868355989456177), ('civilization', 0.1538960039615631), ('evidence', 0.1084454357624054), ('settlements', 0.10005153715610504), ('first', 0.057538729161024094), ('forest', 0.048541631549596786), ('along', 0.001932099461555481), ('inhabitants', -0.003615010529756546)]\n",
            "Doc 7 is --> concern rate rise come year investor may start consid park money elsewher alreadi make choic amazon stock yeartod far mute 76 gain notch 2020 appl stock actual 17 2021 gain 81 last year big tech name fare better googl parent alphabet googl 37 far year beat last year 31 rise clear amazon battl mood shift even 2021 prime day success\n",
            "[('last', 0.06624813377857208), ('stock', 0.0002891905605792999), ('gain', -0.04615699499845505), ('year', -0.08262380957603455), ('rise', -0.10210438072681427), ('far', -0.10246500372886658), ('googl', -0.12296425551176071)]\n",
            "Doc 8 is --> In 2005  parts of the Amazon basin experienced the worst drought in one hundred years  and there were indications that 2006 may have been a second successive year of drought. A 2006 article in the UK newspaper The Independent reported the Woods Hole Research Center results  showing that the forest in its present form could survive only three years of drought. Scientists at the Brazilian National Institute of Amazonian Research argued in the article that this drought response  coupled with the effects of deforestation on regional climate  are pushing the rainforest towards a  tipping point  where it would irreversibly start to die. It concluded that the forest is on the brink of[vague] being turned into savanna or desert  with catastrophic consequences for the world s climate.[citation needed] A study published in Nature Communications in October 2020 found that about 40% of the Amazon rainforest is at risk of becoming a savanna-like ecosystem due to reduced rainfall. According to the World Wide Fund for Nature  the combination of climate change and deforestation increases the drying effect of dead trees that fuels forest fires. In 2010  the Amazon rainforest experienced another severe drought  in some ways more extreme than the 2005 drought. The affected region was approximately 3 000 000 km2 (1 160 000 sq mi) of rainforest  compared with 1 900 000 km2 (734 000 sq mi) in 2005. The 2010 drought had three epicenters where vegetation died off  whereas in 2005  the drought was focused on the southwestern part. The findings were published in the journal Science. In a typical year  the Amazon absorbs 1.5 gigatons of carbon dioxide  during 2005 instead 5 gigatons were released and in 2010 8 gigatons were released. Additional severe droughts occurred in 2010  2015  and 2016. In 2019 Brazil s protections of the Amazon rainforest were slashed  resulting in a severe loss of trees.[108] According to Brazil s National Institute for Space Research (INPE)  deforestation in the Brazilian Amazon rose more than 50% in the first three months of 2020 compared to the same three-month period in 2019. In 2020  a 17 per cent rise was noted in the Amazon wildfires  marking the worst start to the fire season in a decade. The first 10 days of August 2020 witnessed 10 136 fires. An analysis of the government figures reflected 81 per cent increase in fires in federal reserves  in comparison with the same period in 2019.[110] However  President Jair Bolsonaro turned down the existence of fires  calling it a  lie   despite the data produced by his own government. Satellites in September recorded 32 017 hotspots in the world s largest rainforest  a 61% rise from the same month in 2019. In addition  October saw a huge surge in the number of hotspots in the forest (more than 17 000 fires are burning in the Amazon s rainforest) - with more than double the amount detected in the same month last year.\n",
            "[('research', 0.17963379621505737), ('period', 0.1540105789899826), ('deforestation', 0.13408592343330383), ('fires', 0.11039745807647705), ('worst', 0.10614552348852158), ('published', 0.07972061634063721), ('drought', 0.07769820094108582), ('first', 0.06077895313501358), ('brazilian', 0.05937545746564865), ('national', 0.05173648148775101)]\n",
            "Doc 9 is --> Amazon s logistics infrastructure doesn t just help it ship to consumers all across the globe it also aids another group of people: small businesses. Listing their products on Amazon helps them increase their customer reach  and the delivery essentially becomes Amazon s headache.  More than 1.9 million small and medium-sized businesses sell in our store  and they make up close to 60% of our retail sales   the company said in its 2020 letter to shareholders. As small businesses thrive  further job creation and spending are bound to happen. According to Amazon  1.1 million jobs have been created outside of the company as a result of the Amazon Marketplace. Amazon as a Taxpayer Income Tax Amazon does pay taxes  but it pays far less than some people believe that it should. For 2020  Amazon s effective income tax rate was 9.4%â€”versus the 21% statutory corporate tax rate. The company paid $1.8 billion in federal income tax on $20 billion in profitsâ€”versus the $4.1 billion that Amazon would have paid with the 21% tax rate.\n",
            "[('million', 0.20181655883789062), ('rate', 0.13238771259784698), ('income', 0.11902924627065659), ('billion', 0.01840364933013916), ('versus', 0.008358667604625225), ('people', -0.02510012313723564), ('paid', -0.03396843746304512), ('businesses', -0.059092532843351364), ('company', -0.10833447426557541), ('tax', -0.1447371542453766)]\n",
            "Doc 10 is --> The Amazon rainforest has long been recognized as a repository of ecological services not only for local tribes and communities  but also for the rest of the world. It is also the only rainforest that we have left in terms of size and diversity. But as forests burn and global warming worsens  the impact of Amazon deforestation continues to gradually undo the fragile ecological processes that have been refined over millions of years. Ironically  as rainforest continues to disappear  scientific work from the last two decades has shed light on the critical ties that link the health of rainforests to the rest of the world.  Filtering and reprocessing the worldâ€™s harmful carbon dioxide output Trees have hidden attributes that play a key role in reducing pollutant levels. Take carbon dioxide (CO2) for example  a gas emitted from both natural and human sources. Over the last 150 years  humans have been pumping massive amounts of CO2 into the air by burning fossil fuels  coal  oil and natural gas - this is a major driver for global climate change. Carbon dioxide in  oxygen out Under natural conditions  plants remove CO2 from the atmosphere and absorb it for photosynthesis  an energy-creating process that yields: Oxygen  which is released back into the air Carbon  which allows the plant to grow. So  without tropical rainforests the greenhouse effect would likely be even more pronounced  and climate change may possibly get even worse in the future\n",
            "[('even', 0.16509675979614258), ('ecological', 0.16213057935237885), ('carbon', 0.14486511051654816), ('change', 0.10062730312347412), ('gas', 0.08314624428749084), ('last', 0.06554316729307175), ('dioxide', 0.0616200789809227), ('continues', 0.047361698001623154), ('oxygen', 0.038794659078121185), ('world', 0.031430695205926895)]\n",
            "Doc 11 is --> The Amazon is critical to our efforts to avoid a climate catastrophe. Water vapor released from the Amazon creates vast â€œflying riversâ€ in the atmosphere  which influence rainfall and thus agricultural production in central and southern South America. And the billions of tons of carbon stored in the Amazon rain forest is of global importance to slowing climate change. But the Amazon is threatened by rising deforestation. Unprecedented droughts are happening with growing frequency. Dry seasons are hotter and longer. Long dry spells wither crops  decimate fisheries  and lead to forest fires. This can result in significant shifts in the makeup of ecosystems and a loss of species. According to many notable scientists  including longtime friend of WWF Tom Lovejoy  the Amazon is close to a tipping point past which it will no longer be able to sustainably support itself. To ensure the Amazonâ€™s future  for its people and biodiversity  deforestation in the region should not exceed 20%  and it is already at 18%. Our vision is one of zero net deforestation in the Amazon to safeguard this globally important ecosystem. Each year  the Amazon loses thousands of square miles of forested area. Agricultural expansion  ranching  infrastructure projects  energy exploration  and illegal logging are to blame. WWF works with traders  processors  meat packers  retailers  restaurants  banks  investors  and other institutions to eliminate the loss of key Latin American ecosystems including the Amazon rainforest  the Cerrado Savannah  and the Chaco woodlands and grasslands of Argentina and Paraguay from global beef and soy supply chains. The work includes:\n",
            "[('longer', 0.22484548389911652), ('loss', 0.13454756140708923), ('deforestation', 0.13009114563465118), ('forest', 0.04464755952358246), ('climate', 0.007242763414978981), ('dry', -0.024211425334215164), ('ecosystems', -0.07528004050254822), ('wwf', -0.10739679634571075), ('global', -0.12155434489250183), ('agricultural', -0.12689253687858582)]\n",
            "Doc 12 is --> Amazon became the second trillion-dollar company by market cap on September 4  2018. As of July 2021  it holds third place behind Apple and Microsoft  boasting a $1.875 trillion market cap.15 Another milestone  in July 2020  the company crossed the $3 000 mark for its share price  which has been steadily increasing since. Amazon s founder and executive chair  Jeff Bezos  is frequently the wealthiest person in the world  depending on current market prices. The multi-year run for Amazon shares has been phenomenal. The company made its stock market debut in 1997  and $100 invested then would have turned into six figures. Amazon has significantly outperformed the S&P 500 over the last several decades  but it has been a rocky road at times. In particular  Amazon lost more than 90% of its value when the dotcom bubble crashed. Here  past returns are clearly not indicative of future results. Amazon s strong performance during the 2020 bear market is a sign that the company is maturing. The thousandfold return available to early investors in Amazon simply cannot be repeated. Without hyperinflation  a trillion-dollar company will never be worth a quadrillion dollars because that is more than the combined value of every stock market in the world.\n",
            "[('world', 0.031188368797302246), ('cap', 0.018702585250139236), ('stock', 0.0003908202052116394), ('market', -0.041697073727846146), ('dollar', -0.08219845592975616), ('company', -0.10812699794769287), ('july', -0.1349627673625946), ('value', -0.17907999455928802), ('trillion', -0.19060030579566956)]\n",
            "Doc 13 is --> In the 20th century  Brazilâ€™s rapidly growing population settled major areas of the Amazon Rainforest. The size of the Amazon forest shrank dramatically as a result of settlersâ€™ clearance of the land to obtain lumber and to create grazing pastures and farmland. Brazil holds approximately 60 percent of the Amazon basin within its borders  and some 1 583 000 square miles (4 100 000 square km) of this was covered by forests in 1970. The amount of forest cover declined to some 1 283 000 square miles (3 323 000 square km) by 2016  about 81 percent of the area that had been covered by forests in 1970. In the 1990s the Brazilian government and various international bodies began efforts to protect parts of the forest from human encroachment  exploitation  deforestation  and other forms of destruction. Although Brazilâ€™s Amazon continues to lose forest cover  the pace of this loss declined from roughly 0.4 percent per year during the 1980s and â€™90s to roughly 0.1â€“0.2 percent per year between 2008 and 2016. However  some 75 000 fires occurred in the Brazilian Amazon during the first half of 2019 (an increase of 85 percent over 2018)  largely due to encouragement from Brazilian Pres. Jair Bolsonaro  a strong proponent of tree clearing. In 2007 Ecuador initiated a unique plan to preserve a portion of the forest within its borders  which lies in YasunÃ­ National Park (established 1979)  one of the worldâ€™s most biodiverse regions: the Ecuadoran government agreed to forgo development of heavy oil deposits (worth an estimated $7.2 billion) beneath the YasunÃ­ rainforest if other countries and private donors contributed half of the depositsâ€™ value to a UN-administered trust fund for Ecuador. In 2013  however  Ecuador abandoned the plan  after only $6.5 million had been raised by the end of 2012. By 2016 the state oil company Petroecuador had begun to drill and extract petroleum from the park.\n",
            "[('within', 0.18781650066375732), ('half', 0.17704148590564728), ('however', 0.15342512726783752), ('covered', 0.1426960527896881), ('yasun', 0.09615720808506012), ('cover', 0.07355337589979172), ('square', 0.06198324263095856), ('brazilian', 0.05345053970813751), ('borders', 0.050339844077825546), ('forest', 0.04824400320649147)]\n",
            "Doc 14 is --> Amazon Rainforest  large tropical rainforest occupying the drainage basin of the Amazon River and its tributaries in northern South America and covering an area of 2 300 000 square miles (6 000 000 square km). Comprising about 40 percent of Brazilâ€™s total area  it is bounded by the Guiana Highlands to the north  the Andes Mountains to the west  the Brazilian central plateau to the south  and the Atlantic Ocean to the east. A brief treatment of the Amazon Rainforest follows. For full treatment  see South America: Amazon River basin. Amazonia is the largest river basin in the world  and its forest stretches from the Atlantic Ocean in the east to the tree line of the Andes in the west. The forest widens from a 200-mile (320-km) front along the Atlantic to a belt 1 200 miles (1 900 km) wide where the lowlands meet the Andean foothills. The immense extent and great continuity of this rainforest is a reflection of the high rainfall  high humidity  and monotonously high temperatures that prevail in the region. The Amazon Rainforest is the worldâ€™s richest and most-varied biological reservoir  containing several million species of insects  plants  birds  and other forms of life  many still unrecorded by science. The luxuriant vegetation encompasses a wide variety of trees  including many species of myrtle  laurel  palm  and acacia  as well as rosewood  Brazil nut  and rubber tree. Excellent timber is furnished by the mahogany and the Amazonian cedar. Major wildlife includes jaguar  manatee  tapir  red deer  capybara and many other types of rodents  and several types of monkeys.\n",
            "[('area', 0.24536287784576416), ('wide', 0.16349706053733826), ('river', 0.15197108685970306), ('america', 0.13181966543197632), ('basin', 0.10958853363990784), ('square', 0.05699203163385391), ('forest', 0.044243574142456055), ('world', 0.0338483490049839), ('tree', 0.027033865451812744), ('miles', 0.026999693363904953)]\n",
            "Doc 15 is --> ON THE SOUTHERN CREST of the unscathed Amazon rain forest  a storm inundates a wooden shack just off a sodden mud road. Inside  Antonio Bertola sits clutching a $1 beer under a painting of the Virgin Mary  his face ruddy and his clothes tatty from a lifetime of work on the land. The frontier town of Realidade is a mere speck on a changing map. To the north stretch hundreds of billions of trees and more than 1 million species never charted by man. To the south the muddy trail of human conquest reaches back for centuries. In a bittersweet tone of voice  Bertola recounts how his family of migrants had hungered for prosperity  security and  most of all  land to call their own. Five decades ago Brazil incentivized millions of its people to colonize the Amazon. Today their logging yards  cattle enclosures and soy farms sit on the fringes of a vanishing forest. Powered by murky sources of capital and rising demand for beef  a violent and corrupt frontier is now pushing into indigenous land  national parks and one of the most preserved parts of the jungle. Brazilâ€™s new President  Jair Bolsonaro  an unapologetic cheerleader for the exploitation of the Amazon  has the colonistsâ€™ backs  heâ€™s sacked key environmental officials and slashed enforcement. His message: the Amazon is open for business. Since his inauguration in January  the rate of deforestation has soared by as much as 92%  according to satellite imaging. As human activity in the Amazon ramps up  its future has never been less clear. Scientists warn that decades of human activity and a changing climate has brought the jungle near a â€œtipping point.â€ The rain forest is so-called because itâ€™s such a wet place  where the trees pull up water from the earth that then gathers in the atmosphere to become rain. That balance is upended by deforestation  forest fires and global temperature rises. Experts warn that soon the water cycle will become irreversibly broken  locking in a trend of declining rainfall and longer dry seasons that began decades ago. At least half of the shrinking forest will give way to savanna. With as much as 17% of the forest lost already  scientists believe that the tipping point will be reached at 20% to 25% of deforestation even if climate change is tamed. If  as predicted  global temperatures rise by 4Â°C  much of the central  eastern and southern Amazon will certainly become barren scrubland.\n",
            "[('activity', 0.19846317172050476), ('ago', 0.15830790996551514), ('warn', 0.13163980841636658), ('deforestation', 0.13155053555965424), ('human', 0.0559639111161232), ('forest', 0.04594867676496506), ('trees', 0.03587907552719116), ('brazil', 0.021109793335199356), ('water', 0.01721297577023506), ('point', 0.012086216360330582)]\n",
            "Doc 16 is --> Amazon has a growing role in the U.S. economy that extends far beyond its retail business  according to a new report.  Behind the packages on the doorstep  and behind the inviting interface and seamless service that has consistently put the company at the top of corporate reputation rankings  Amazon has quietly positioned itself at the center of a growing share of our daily activities and transactions   extending its tentacles across our economy  and with it  our lives   says the report by the Institute for Local Self-Reliance. In all  millions of Amazon-branded devices were sold this weekend  although the company doesn t release specific numbers and did not respond to a request for comment. Some 5.1 million Amazon Echo devices have been sold since its introduction in late 2014  according to analysis by Consumer Intelligence Research Partners (CIRP). The group surveyed Amazon customer and released its report just one week before Black Friday  when millions more devices were sold-through to consumers.  Echo is the flagship product - a Bluetooth speaker with a voice-controlled artificial intelligence named Alexa. Amazon Prime members can ask Alexa to control many smart home devices  retrieve information and play music. Of course  Alexa will also order from Amazon  although this is the least used feature.\n",
            "[('economy', 0.05455736070871353), ('intelligence', 0.03299204260110855), ('devices', 0.024044418707489967), ('according', 0.013178203254938126), ('report', -0.03180599585175514), ('echo', -0.03472479060292244), ('millions', -0.06268102675676346), ('although', -0.06533747166395187), ('behind', -0.06575143337249756), ('alexa', -0.07588841766119003)]\n",
            "Doc 17 is --> But Amazon is doing everything it can to change this. Echo and the Amazon family of products  including Kindle readers  are designed to get Echo owners to buy more goods. Amazon s strategy has been to grow its Prime membership through exclusive offers and better pricing. The more consumers are drawn into the Amazon ecosystem  the more likely they are to exclusively use the company for pretty much everything they can. Shoppers are already more likely to search Amazon for product information and reviews than even Google. Once they become accustomed to going first to Amazon  they cease to even compare prices  sometimes paying more for a product thanks to the convenience and perceived value of Prime. it s a genius move by Amazon founder and CEO Jeff Bezos  but chilling when you stop to think about just how much control that gives the company. Walmart  though  is positioning itself for an epic battle with Amazon and its recent $3 billion purchase of Jet.com will help it better compete with Amazon s marketplace and technology platforms while leveraging the a vast distribution network that includes more than 6 000 stores. ILSR contends that Amazon s growing dominance poses a threat to the economy through increased monopolization in industry and declining property tax revenue. There s also the rise of low-paid jobs in Amazon warehouses and fewer small businesses that make for vibrant communities.\n",
            "[('even', 0.16518686711788177), ('better', 0.13856689631938934), ('everything', 0.013177037239074707), ('prime', -0.011693582870066166), ('echo', -0.0333855077624321), ('product', -0.07184423506259918), ('company', -0.108378104865551), ('likely', -0.13248464465141296), ('much', -0.13525983691215515)]\n",
            "Doc 18 is --> Amazon previously disclosed that 200 million people pay for Prime memberships  and subscription revenue for that service and others reached almost $7.6 billion in the quarter. In addition to paying Amazon $119 a year or $12.99 a month for free shipping and other perks  households with Prime memberships typically spend $3 000 a year on Amazon  more than twice what households without the membership spend  according to Morgan Stanley. The high volume of orders during the pandemic has let Amazon operate more efficiently. It has run its warehouses closer to full capacity  and delivery drivers have made more stops on their routes  with less time driving between customers. The number of items Amazon sold grew 44 percent  but the cost to fulfill those orders was up only 31 percent. The pandemicâ€™s shift to remote computing was also a boon to Amazonâ€™s profitable cloud computing business  Amazon Web Services  which had $13.5 billion in sales. â€œWe certainly had strong volumes really across all of our businesses â€ Amazonâ€™s finance chief  Brian Olsavsky  said on a call with reporters. He said the company is investing heavily in future growth. It spent almost $50 billion in capital expenditures in the last 12 months  largely on building out its logistics operations and data centers  up 80 percent over a year earlier. Mr. Olsavsky said he expected â€œanother strong yearâ€ for capital spending. â€œIn just 15 years  AWS has become a $54 billion annual sales run rate business competing against the worldâ€™s largest technology companies  and its growth is accelerating â€ Jeff Bezos  Amazonâ€™s founder and chief executive  said in a statement. Mr. Bezos plans to step down as chief executive later this year and transition into the role of executive chairman. Amazonâ€™s total work force dipped slightly between December and the end of March  falling by 27 000 to 1 271 000 employees globally. That was still 51 percent more workers than the same period last year. On Wednesday  Amazon announced it would increase pay for half a million workers and was hiring â€œtens of thousandsâ€ more\n",
            "[('said', 0.2426813244819641), ('million', 0.2056688666343689), ('almost', 0.17285874485969543), ('olsavsky', 0.15925416350364685), ('orders', 0.11206682026386261), ('strong', 0.10394547134637833), ('executive', 0.07612493634223938), ('bezos', 0.07429236173629761), ('chief', 0.07047566771507263), ('last', 0.06541170179843903)]\n",
            "Doc 19 is --> The Amazon rainforest  alternatively  the Amazon jungle[a] or Amazonia  is a moist broadleaf tropical rainforest in the Amazon biome that covers most of the Amazon basin of South America. This basin encompasses 7 000 000 km2 (2 700 000 sq mi)  of which 5 500 000 km2 (2 100 000 sq mi) are covered by the rainforest. This region includes territory belonging to nine nations and 3 344 formally acknowledged indigenous territories. The majority of the forest is contained within Brazil  with 60% of the rainforest  followed by Peru with 13%  Colombia with 10%  and with minor amounts in Bolivia  Ecuador  French Guiana  Guyana  Suriname  and Venezuela. Four nations have  Amazonas  as the name of one of their first-level administrative regions  and France uses the name  Guiana Amazonian Park  for its rainforest protected area. The Amazon represents over half of the planet s remaining rainforests and comprises the largest and most biodiverse tract of tropical rainforest in the world  with an estimated 390 billion individual trees divided into 16 000 species. More than 30 million people of 350 different ethnic groups live in the Amazon  which are subdivided into 9 different national political systems and 3 344 formally acknowledged indigenous territories. Indigenous peoples make up 9% of the total population with 60 of the groups remaining largely isolated\n",
            "[('territories', 0.12809740006923676), ('basin', 0.10996773838996887), ('nations', 0.058857373893260956), ('formally', 0.051923684775829315), ('different', 0.03925642371177673), ('remaining', 0.019593775272369385), ('km', -0.007402582094073296), ('rainforest', -0.051412396132946014), ('mi', -0.07938352972269058), ('acknowledged', -0.08554748445749283)]\n"
          ],
          "name": "stdout"
        }
      ]
    }
  ]
}